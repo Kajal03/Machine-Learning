{
 "cells": [
  {
   "cell_type": "code",
   "execution_count": 1,
   "metadata": {},
   "outputs": [],
   "source": [
    "import pandas as pd\n",
    "import matplotlib.pyplot as plt\n",
    "import numpy as np\n",
    "from sklearn import datasets"
   ]
  },
  {
   "cell_type": "code",
   "execution_count": 4,
   "metadata": {},
   "outputs": [],
   "source": [
    "iris = datasets.load_iris()\n",
    "X = iris.data[:, :]  \n",
    "Y = iris.target"
   ]
  },
  {
   "cell_type": "code",
   "execution_count": 40,
   "metadata": {},
   "outputs": [],
   "source": [
    "Y =np.resize(Y,(150,1))"
   ]
  },
  {
   "cell_type": "code",
   "execution_count": 41,
   "metadata": {},
   "outputs": [
    {
     "name": "stdout",
     "output_type": "stream",
     "text": [
      "(150, 4)\n",
      "(150, 1)\n"
     ]
    }
   ],
   "source": [
    "print(X.shape)\n",
    "print(Y.shape)"
   ]
  },
  {
   "cell_type": "code",
   "execution_count": 35,
   "metadata": {},
   "outputs": [],
   "source": [
    "X = np.array(X)\n",
    "Y= np.array(Y)"
   ]
  },
  {
   "cell_type": "code",
   "execution_count": 42,
   "metadata": {},
   "outputs": [],
   "source": [
    "X = np.concatenate((X,Y),axis=1)"
   ]
  },
  {
   "cell_type": "code",
   "execution_count": 43,
   "metadata": {},
   "outputs": [
    {
     "name": "stdout",
     "output_type": "stream",
     "text": [
      "(150, 5)\n"
     ]
    }
   ],
   "source": [
    "print(X.shape)"
   ]
  },
  {
   "cell_type": "code",
   "execution_count": 44,
   "metadata": {},
   "outputs": [],
   "source": [
    "np.random.shuffle(X)"
   ]
  },
  {
   "cell_type": "code",
   "execution_count": 81,
   "metadata": {},
   "outputs": [],
   "source": [
    "X_train = X[:100,:-1]\n",
    "Y_train = X[:100,-1]\n",
    "\n",
    "X_test = X[100:,:-1]\n",
    "Y_test = X[100:,-1]\n"
   ]
  },
  {
   "cell_type": "code",
   "execution_count": 52,
   "metadata": {},
   "outputs": [
    {
     "name": "stdout",
     "output_type": "stream",
     "text": [
      "(120, 4)\n",
      "(30, 4)\n",
      "(120,)\n",
      "(30,)\n"
     ]
    }
   ],
   "source": [
    "print(X_train.shape)\n",
    "print(X_test.shape)\n",
    "print(Y_train.shape)\n",
    "print(Y_test.shape)"
   ]
  },
  {
   "cell_type": "code",
   "execution_count": 56,
   "metadata": {},
   "outputs": [
    {
     "name": "stdout",
     "output_type": "stream",
     "text": [
      "[0. 0. 1. 2. 1. 1. 2. 0. 2. 2. 0. 0. 0. 0. 0. 2. 1. 0. 2. 0. 1. 0. 2. 0.\n",
      " 0. 1. 2. 1. 1. 1. 2. 1. 1. 0. 0. 0. 1. 0. 0. 0. 1. 0. 1. 2. 2. 1. 2. 2.\n",
      " 2. 0. 1. 0. 1. 1. 2. 0. 2. 0. 2. 0. 2. 0. 0. 1. 2. 1. 1. 2. 2. 1. 1. 1.\n",
      " 1. 1. 1. 1. 2. 2. 1. 1. 1. 2. 2. 1. 0. 0. 2. 1. 2. 0. 1. 1. 2. 2. 1. 1.\n",
      " 2. 0. 1. 0. 2. 1. 2. 0. 2. 0. 0. 2. 0. 2. 1. 1. 1. 0. 2. 2. 2. 0. 0. 2.]\n"
     ]
    }
   ],
   "source": [
    "print(Y_train)"
   ]
  },
  {
   "cell_type": "code",
   "execution_count": 76,
   "metadata": {},
   "outputs": [],
   "source": [
    "def calDistance(X, query_point):\n",
    "    distance = np.sqrt(((query_point-X)**2).sum())\n",
    "    return distance\n",
    "\n",
    "\n",
    "def KNN(X_train,Y_train,query_point, k=5):\n",
    "    vals = []\n",
    "    m = X_train.shape[0]\n",
    "    for i in range(m):\n",
    "        d = calDistance(X_train[i],query_point)\n",
    "        vals.append((d,Y_train[i])) \n",
    "    vals = sorted(vals) \n",
    "    vals = vals[:k]  #now we have k nearest neighbours containing their distance and class\n",
    "    \n",
    "    count0=count1=count2=0\n",
    "    for i in range(k):\n",
    "        if(vals[i][1] == 0):\n",
    "            count0 += (1/vals[i][0])\n",
    "        elif(vals[i][1] == 1):\n",
    "            count1 += (1/vals[i][0])\n",
    "        else:\n",
    "            count2 += (1/vals[i][0])\n",
    "        \n",
    "    if count0>count1 and count0>count2:\n",
    "        return 0\n",
    "    if count1>count0 and count1 > count2:\n",
    "        return 1\n",
    "    else:\n",
    "        return 2\n",
    "    \n",
    "    "
   ]
  },
  {
   "cell_type": "code",
   "execution_count": 77,
   "metadata": {},
   "outputs": [
    {
     "name": "stdout",
     "output_type": "stream",
     "text": [
      "0\n"
     ]
    }
   ],
   "source": [
    "x = KNN(X_train,Y_train,X_test[20])\n",
    "print(x)\n",
    "\n",
    "#plt.scatter(X_train[:,0],X_train[:,1])\n",
    "#plt.scatter(10,10,color='r')\n",
    "#plt.show()"
   ]
  },
  {
   "cell_type": "code",
   "execution_count": 82,
   "metadata": {},
   "outputs": [],
   "source": [
    "def get_accuracy(X_train,Y_train,X_test,Y_test,k):\n",
    "    y = []\n",
    "    m = X_test.shape[0]\n",
    "    for i in range(m):\n",
    "        \n",
    "        y.append(KNN(X_train,Y_train,X_test[i],k))\n",
    "    return ((y==Y_test).sum()/m)*100"
   ]
  },
  {
   "cell_type": "code",
   "execution_count": 86,
   "metadata": {},
   "outputs": [
    {
     "name": "stdout",
     "output_type": "stream",
     "text": [
      "96.0\n"
     ]
    }
   ],
   "source": [
    "accuracy = get_accuracy(X_train,Y_train,X_test,Y_test,7)\n",
    "print(accuracy)"
   ]
  },
  {
   "cell_type": "code",
   "execution_count": null,
   "metadata": {},
   "outputs": [],
   "source": []
  }
 ],
 "metadata": {
  "kernelspec": {
   "display_name": "Python 3",
   "language": "python",
   "name": "python3"
  },
  "language_info": {
   "codemirror_mode": {
    "name": "ipython",
    "version": 3
   },
   "file_extension": ".py",
   "mimetype": "text/x-python",
   "name": "python",
   "nbconvert_exporter": "python",
   "pygments_lexer": "ipython3",
   "version": "3.7.3"
  }
 },
 "nbformat": 4,
 "nbformat_minor": 2
}
