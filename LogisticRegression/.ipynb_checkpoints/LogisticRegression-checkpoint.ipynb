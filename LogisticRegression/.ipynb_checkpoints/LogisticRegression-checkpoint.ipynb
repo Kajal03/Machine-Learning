{
 "cells": [
  {
   "cell_type": "code",
   "execution_count": 1,
   "metadata": {},
   "outputs": [],
   "source": [
    "import numpy as np\n",
    "import matplotlib.pyplot as plt\n",
    "import pandas as pd\n",
    "from sklearn.model_selection import train_test_split"
   ]
  },
  {
   "cell_type": "code",
   "execution_count": 2,
   "metadata": {},
   "outputs": [
    {
     "name": "stdout",
     "output_type": "stream",
     "text": [
      "(500, 2)\n",
      "(500, 2)\n"
     ]
    }
   ],
   "source": [
    "mean1 = np.array([4.0,5.0])\n",
    "cov1 = np.array([[1,0.1],[0.1,1.8]])\n",
    "\n",
    "mean2 = np.array([8.0,10.0])\n",
    "cov2 = np.array([[1.21,0.1],[0.1,1.3]])\n",
    "\n",
    "# Normal Distribution\n",
    "dist1 = np.random.multivariate_normal(mean1,cov1,500)\n",
    "dist2 = np.random.multivariate_normal(mean2,cov2,500)\n",
    "\n",
    "print(dist1.shape)\n",
    "print(dist2.shape)\n"
   ]
  },
  {
   "cell_type": "code",
   "execution_count": 3,
   "metadata": {},
   "outputs": [
    {
     "data": {
      "image/png": "[encoded data removed]",
      "text/plain": [
       "<Figure size 432x288 with 1 Axes>"
      ]
     },
     "metadata": {
      "needs_background": "light"
     },
     "output_type": "display_data"
    }
   ],
   "source": [
    "plt.scatter(dist1[:,0],dist1[:,1])\n",
    "plt.scatter(dist2[:,0],dist2[:,1],color='r')\n",
    "plt.show()"
   ]
  },
  {
   "cell_type": "markdown",
   "metadata": {},
   "source": [
    "## Creating Testing and Training Data"
   ]
  },
  {
   "cell_type": "code",
   "execution_count": 4,
   "metadata": {},
   "outputs": [],
   "source": [
    "data = np.zeros((1000,3))\n",
    "data[:500,:2] = dist1\n",
    "data[500:,:2] = dist2\n",
    "data[500:,-1] = 1"
   ]
  },
  {
   "cell_type": "code",
   "execution_count": 5,
   "metadata": {},
   "outputs": [
    {
     "name": "stdout",
     "output_type": "stream",
     "text": [
      "[[ 5.44241415  8.68744336  0.        ]\n",
      " [ 9.69565133 12.36537756  1.        ]\n",
      " [ 8.34801195  9.3929421   1.        ]\n",
      " [ 4.6511797   3.66271775  0.        ]\n",
      " [ 7.503008   10.02071485  1.        ]\n",
      " [ 5.9473317  10.22962864  1.        ]\n",
      " [ 3.27755127  4.21615875  0.        ]\n",
      " [ 5.91219453  7.97481287  1.        ]\n",
      " [ 2.85727704  5.2101977   0.        ]\n",
      " [ 6.50114124  3.47864033  0.        ]]\n"
     ]
    }
   ],
   "source": [
    "np.random.shuffle(data)\n",
    "print(data[:10])\n"
   ]
  },
  {
   "cell_type": "code",
   "execution_count": 6,
   "metadata": {},
   "outputs": [],
   "source": [
    "X_train = data[:800,:2]\n",
    "Y_train = data[:800,-1]\n",
    "\n",
    "X_test = data[800:,:2]\n",
    "Y_test = data[800:,-1]\n"
   ]
  },
  {
   "cell_type": "code",
   "execution_count": 7,
   "metadata": {},
   "outputs": [
    {
     "name": "stdout",
     "output_type": "stream",
     "text": [
      "(800, 2)\n",
      "(200, 2)\n",
      "(800,)\n"
     ]
    }
   ],
   "source": [
    "print(X_train.shape)\n",
    "print(X_test.shape)\n",
    "print(Y_train.shape)"
   ]
  },
  {
   "cell_type": "code",
   "execution_count": 16,
   "metadata": {},
   "outputs": [
    {
     "name": "stdout",
     "output_type": "stream",
     "text": [
      "[[ 5.44241415  8.68744336]\n",
      " [ 9.69565133 12.36537756]\n",
      " [ 8.34801195  9.3929421 ]\n",
      " ...\n",
      " [ 7.28789825  9.67206908]\n",
      " [ 9.85874788 11.79325187]\n",
      " [ 9.18557083 11.73771681]]\n"
     ]
    }
   ],
   "source": [
    "print(X_train)"
   ]
  },
  {
   "cell_type": "markdown",
   "metadata": {},
   "source": [
    "### Logistic Regression Model"
   ]
  },
  {
   "cell_type": "code",
   "execution_count": 17,
   "metadata": {},
   "outputs": [],
   "source": [
    "def hypothesis(X,theta,bias):\n",
    "    hx = np.dot(theta,X) + bias\n",
    "    return sigmoid(hx)\n",
    "\n",
    "def sigmoid(z):\n",
    "    return 1.0/(1.0+np.exp(-1*z))\n",
    "\n",
    "def grad(x,y,bias,theta):\n",
    "    a=0\n",
    "    b=0\n",
    "    for i in range(x.shape[0]):\n",
    "        hx = hypothesis(x[i],theta,bias)\n",
    "        a += ((hx- y[i])*x[i])\n",
    "        b += (hx - y[i])\n",
    "    return a,b\n",
    "\n",
    "'''def error(x,y,theta,bias):\n",
    "    err = 0\n",
    "    m = x.shape[0]\n",
    "    for i in range(m):\n",
    "        hx = hypothesis(x[i],theta,bias)\n",
    "        err += y[i]*np.log2(hx) + (1-y[i])*np.log2(1-hx)\n",
    "    return -err/m\n",
    "'''\n",
    "\n",
    "def gradient_descent(X,Y):\n",
    "    theta = np.zeros((X.shape[1],))\n",
    "    bias = 0\n",
    "    err = []\n",
    "    learning_rate = 0.7\n",
    "    for i in range(700):\n",
    "        #err.append(error(X,Y,theta,bias))\n",
    "        a,b = grad(X,Y,bias,theta)\n",
    "        theta = theta - learning_rate*a\n",
    "        bias = bias - learning_rate*b\n",
    "    return theta,bias\n",
    "\n"
   ]
  },
  {
   "cell_type": "code",
   "execution_count": 18,
   "metadata": {},
   "outputs": [],
   "source": [
    "def predict(X_test,theta,bias):\n",
    "    predicted = hypothesis(X_test,theta,bias)\n",
    "    if(predicted<=0.5):\n",
    "        return 0\n",
    "    else:\n",
    "        return 1"
   ]
  },
  {
   "cell_type": "code",
   "execution_count": 19,
   "metadata": {},
   "outputs": [],
   "source": [
    "def get_accuracy(X_test,Y_test,theta,bias):\n",
    "    y = []\n",
    "    m = X_test.shape[0]\n",
    "    for i in range(m):\n",
    "        y.append(predict(X_test[i],theta,bias))\n",
    "    return (y==Y_test).sum()/m"
   ]
  },
  {
   "cell_type": "code",
   "execution_count": 21,
   "metadata": {},
   "outputs": [],
   "source": [
    "theta, bias = gradient_descent(X_train,Y_train)"
   ]
  },
  {
   "cell_type": "code",
   "execution_count": 22,
   "metadata": {},
   "outputs": [
    {
     "name": "stdout",
     "output_type": "stream",
     "text": [
      "0.995\n"
     ]
    }
   ],
   "source": [
    "accuracy = get_accuracy(X_test,Y_test,theta,bias)\n",
    "print(accuracy)"
   ]
  },
  {
   "cell_type": "code",
   "execution_count": 13,
   "metadata": {},
   "outputs": [],
   "source": [
    "xx = np.linspace(0,12,10)\n",
    "yy = -(theta[0]*xx + bias)/theta[1]\n"
   ]
  },
  {
   "cell_type": "code",
   "execution_count": 14,
   "metadata": {},
   "outputs": [
    {
     "data": {
      "image/png": "[encoded data removed]",
      "text/plain": [
       "<Figure size 432x288 with 1 Axes>"
      ]
     },
     "metadata": {
      "needs_background": "light"
     },
     "output_type": "display_data"
    }
   ],
   "source": [
    "plt.plot(xx,yy)\n",
    "plt.scatter(dist1[:,0],dist1[:,1])\n",
    "plt.scatter(dist2[:,0],dist2[:,1],color='r')\n",
    "plt.show()"
   ]
  },
  {
   "cell_type": "code",
   "execution_count": null,
   "metadata": {},
   "outputs": [],
   "source": []
  }
 ],
 "metadata": {
  "kernelspec": {
   "display_name": "Python 3",
   "language": "python",
   "name": "python3"
  },
  "language_info": {
   "codemirror_mode": {
    "name": "ipython",
    "version": 3
   },
   "file_extension": ".py",
   "mimetype": "text/x-python",
   "name": "python",
   "nbconvert_exporter": "python",
   "pygments_lexer": "ipython3",
   "version": "3.7.4"
  }
 },
 "nbformat": 4,
 "nbformat_minor": 2
}
