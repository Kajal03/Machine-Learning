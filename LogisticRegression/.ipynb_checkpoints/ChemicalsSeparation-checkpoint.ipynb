{
 "cells": [
  {
   "cell_type": "code",
   "execution_count": 1,
   "metadata": {},
   "outputs": [],
   "source": [
    "import numpy as np\n",
    "import matplotlib.pyplot as plt\n",
    "import pandas as pd\n",
    "from sklearn.model_selection import train_test_split"
   ]
  },
  {
   "cell_type": "code",
   "execution_count": 6,
   "metadata": {},
   "outputs": [],
   "source": [
    "X_Train = pd.read_csv('Logistic_X_Train.csv')\n",
    "X_Test = pd.read_csv('Logistic_X_Test.csv')\n",
    "Y_Train = pd.read_csv('Logistic_Y_Train.csv')"
   ]
  },
  {
   "cell_type": "code",
   "execution_count": 48,
   "metadata": {},
   "outputs": [],
   "source": [
    "xtrain = X_Train.values\n",
    "ytrain = Y_Train.values\n",
    "xtest = X_Test.values"
   ]
  },
  {
   "cell_type": "markdown",
   "metadata": {},
   "source": [
    "### Logistic Regression Model"
   ]
  },
  {
   "cell_type": "code",
   "execution_count": 30,
   "metadata": {},
   "outputs": [],
   "source": [
    "def hypothesis(X,theta,bias):\n",
    "    hx = np.dot(theta,X) + bias\n",
    "    return sigmoid(hx)\n",
    "\n",
    "def sigmoid(z):\n",
    "    return 1.0/(1.0+np.exp(-1*z))\n",
    "\n",
    "def grad(x,y,bias,theta):\n",
    "    a=0\n",
    "    b=0\n",
    "    for i in range(x.shape[0]):\n",
    "        hx = hypothesis(x[i],theta,bias)\n",
    "        a += ((hx- y[i])*x[i])\n",
    "        b += (hx - y[i])\n",
    "    return a,b\n",
    "\n",
    "\n",
    "def gradient_descent(X,Y):\n",
    "    theta = np.zeros((3,))\n",
    "    bias = 0\n",
    "    err = []\n",
    "    learning_rate = 0.7\n",
    "    for i in range(700):\n",
    "        #err.append(error(X,Y,theta,bias))\n",
    "        a,b = grad(X,Y,bias,theta)\n",
    "        theta = theta - learning_rate*a\n",
    "        bias = bias - learning_rate*b\n",
    "    return theta,bias\n",
    "\n"
   ]
  },
  {
   "cell_type": "code",
   "execution_count": 31,
   "metadata": {},
   "outputs": [],
   "source": [
    "def predict(X_test,theta,bias):\n",
    "    predicted = hypothesis(X_test,theta,bias)\n",
    "    if(predicted<=0.5):\n",
    "        return 0\n",
    "    else:\n",
    "        return 1"
   ]
  },
  {
   "cell_type": "code",
   "execution_count": 52,
   "metadata": {},
   "outputs": [],
   "source": [
    "def get_accuracy(X_test,Y_test,theta,bias):\n",
    "    y = []\n",
    "    m = X_test.shape[0]\n",
    "    for i in range(m):\n",
    "        y.append(predict(X_test[i],theta,bias))        \n",
    "    return ((y==Y_test).sum()/m)"
   ]
  },
  {
   "cell_type": "code",
   "execution_count": 32,
   "metadata": {},
   "outputs": [],
   "source": [
    "theta, bias = gradient_descent(xtrain,ytrain)"
   ]
  },
  {
   "cell_type": "code",
   "execution_count": 53,
   "metadata": {},
   "outputs": [
    {
     "name": "stdout",
     "output_type": "stream",
     "text": [
      "1500.024\n"
     ]
    }
   ],
   "source": [
    "accuracy = get_accuracy(xtrain,ytrain,theta,bias)\n",
    "print(accuracy)"
   ]
  },
  {
   "cell_type": "code",
   "execution_count": 35,
   "metadata": {},
   "outputs": [],
   "source": [
    "y = []\n",
    "for i in range(xtest.shape[0]):\n",
    "    temp = predict(xtest[i],theta,bias)\n",
    "    y.append(temp)"
   ]
  },
  {
   "cell_type": "code",
   "execution_count": 54,
   "metadata": {},
   "outputs": [],
   "source": [
    "y = pd.DataFrame(y,columns=['label'])"
   ]
  },
  {
   "cell_type": "code",
   "execution_count": 56,
   "metadata": {},
   "outputs": [],
   "source": [
    "y.to_csv('predicted.csv',index=False)"
   ]
  },
  {
   "cell_type": "code",
   "execution_count": 57,
   "metadata": {},
   "outputs": [
    {
     "name": "stdout",
     "output_type": "stream",
     "text": [
      "(1000, 1)\n"
     ]
    }
   ],
   "source": [
    "print(y.shape)"
   ]
  },
  {
   "cell_type": "code",
   "execution_count": null,
   "metadata": {},
   "outputs": [],
   "source": []
  }
 ],
 "metadata": {
  "kernelspec": {
   "display_name": "Python 3",
   "language": "python",
   "name": "python3"
  },
  "language_info": {
   "codemirror_mode": {
    "name": "ipython",
    "version": 3
   },
   "file_extension": ".py",
   "mimetype": "text/x-python",
   "name": "python",
   "nbconvert_exporter": "python",
   "pygments_lexer": "ipython3",
   "version": "3.7.4"
  }
 },
 "nbformat": 4,
 "nbformat_minor": 2
}
