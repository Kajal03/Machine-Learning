{
  "nbformat": 4,
  "nbformat_minor": 0,
  "metadata": {
    "colab": {
      "name": "Simple_MNIST_CNN",
      "version": "0.3.2",
      "provenance": []
    },
    "kernelspec": {
      "name": "python3",
      "display_name": "Python 3"
    },
    "accelerator": "GPU"
  },
  "cells": [
    {
      "metadata": {
        "id": "5UQETGDk07a3",
        "colab_type": "code",
        "outputId": "c6d9dcc8-8f1c-4418-c48d-d85d1d2d38df",
        "colab": {
          "base_uri": "https://localhost:8080/",
          "height": 34
        }
      },
      "cell_type": "code",
      "source": [
        "from keras.layers import *\n",
        "from keras.models import Sequential"
      ],
      "execution_count": 0,
      "outputs": [
        {
          "output_type": "stream",
          "text": [
            "Using TensorFlow backend.\n"
          ],
          "name": "stderr"
        }
      ]
    },
    {
      "metadata": {
        "id": "WST-1Hu11PYs",
        "colab_type": "code",
        "outputId": "614539b9-0f1a-4692-c05a-93e994cbff90",
        "colab": {
          "base_uri": "https://localhost:8080/",
          "height": 408
        }
      },
      "cell_type": "code",
      "source": [
        "# Build a Model \n",
        "\n",
        "model = Sequential()\n",
        "model.add(Conv2D(32,(3,3),activation='relu',input_shape=(28,28,1)))\n",
        "model.add(MaxPool2D((2,2)))\n",
        "model.add(Conv2D(64,(3,3),activation='relu',input_shape=(28,28,1)))\n",
        "model.add(MaxPool2D((2,2)))\n",
        "model.add(Conv2D(64,(3,3),activation='relu',input_shape=(28,28,1)))\n",
        "model.add(Flatten())\n",
        "model.add(Dense(64,activation='relu'))\n",
        "model.add(Dense(10,activation='softmax'))\n",
        "model.summary()"
      ],
      "execution_count": 0,
      "outputs": [
        {
          "output_type": "stream",
          "text": [
            "_________________________________________________________________\n",
            "Layer (type)                 Output Shape              Param #   \n",
            "=================================================================\n",
            "conv2d_7 (Conv2D)            (None, 26, 26, 32)        320       \n",
            "_________________________________________________________________\n",
            "max_pooling2d_5 (MaxPooling2 (None, 13, 13, 32)        0         \n",
            "_________________________________________________________________\n",
            "conv2d_8 (Conv2D)            (None, 11, 11, 64)        18496     \n",
            "_________________________________________________________________\n",
            "max_pooling2d_6 (MaxPooling2 (None, 5, 5, 64)          0         \n",
            "_________________________________________________________________\n",
            "conv2d_9 (Conv2D)            (None, 3, 3, 64)          36928     \n",
            "_________________________________________________________________\n",
            "flatten_3 (Flatten)          (None, 576)               0         \n",
            "_________________________________________________________________\n",
            "dense_5 (Dense)              (None, 64)                36928     \n",
            "_________________________________________________________________\n",
            "dense_6 (Dense)              (None, 10)                650       \n",
            "=================================================================\n",
            "Total params: 93,322\n",
            "Trainable params: 93,322\n",
            "Non-trainable params: 0\n",
            "_________________________________________________________________\n"
          ],
          "name": "stdout"
        }
      ]
    },
    {
      "metadata": {
        "id": "8mr8Swri1Tvw",
        "colab_type": "code",
        "colab": {}
      },
      "cell_type": "code",
      "source": [
        "#Dataset\n",
        "from keras.datasets import mnist\n",
        "from keras.utils import to_categorical\n",
        "(XTrain,YTrain),(XTest,YTest) = mnist.load_data()"
      ],
      "execution_count": 0,
      "outputs": []
    },
    {
      "metadata": {
        "id": "imDDq6a81bLp",
        "colab_type": "code",
        "outputId": "14149e67-4c53-40cc-b661-71cab4244af9",
        "colab": {
          "base_uri": "https://localhost:8080/",
          "height": 51
        }
      },
      "cell_type": "code",
      "source": [
        "def preprocess_data(X,Y):\n",
        "    X = X.reshape((-1,28,28,1))\n",
        "    X = X/255.0\n",
        "    Y = to_categorical(Y)\n",
        "    return X,Y\n",
        "\n",
        "XTrain,YTrain = preprocess_data(XTrain,YTrain)\n",
        "print(XTrain.shape,YTrain.shape)\n",
        "\n",
        "XTest,YTest = preprocess_data(XTest,YTest)\n",
        "print(XTest.shape,YTest.shape)"
      ],
      "execution_count": 0,
      "outputs": [
        {
          "output_type": "stream",
          "text": [
            "(60000, 28, 28, 1) (60000, 10)\n",
            "(10000, 28, 28, 1) (10000, 10)\n"
          ],
          "name": "stdout"
        }
      ]
    },
    {
      "metadata": {
        "id": "kFn8D-3M1eAb",
        "colab_type": "code",
        "outputId": "1fd1ede8-25c1-41aa-d51e-5531e3f631f7",
        "colab": {
          "base_uri": "https://localhost:8080/",
          "height": 714
        }
      },
      "cell_type": "code",
      "source": [
        "# Model Compilation\n",
        "model.compile(optimizer='adam',loss='categorical_crossentropy',metrics=['accuracy'])\n",
        "hist = model.fit(XTrain,YTrain,epochs=20,validation_split=0.1,batch_size=128)"
      ],
      "execution_count": 0,
      "outputs": [
        {
          "output_type": "stream",
          "text": [
            "Train on 54000 samples, validate on 6000 samples\n",
            "Epoch 1/20\n",
            "54000/54000 [==============================] - 6s 108us/step - loss: 0.2652 - acc: 0.9238 - val_loss: 0.0595 - val_acc: 0.9840\n",
            "Epoch 2/20\n",
            "54000/54000 [==============================] - 5s 96us/step - loss: 0.0675 - acc: 0.9791 - val_loss: 0.0488 - val_acc: 0.9853\n",
            "Epoch 3/20\n",
            "54000/54000 [==============================] - 5s 95us/step - loss: 0.0448 - acc: 0.9862 - val_loss: 0.0339 - val_acc: 0.9910\n",
            "Epoch 4/20\n",
            "54000/54000 [==============================] - 5s 95us/step - loss: 0.0346 - acc: 0.9892 - val_loss: 0.0390 - val_acc: 0.9890\n",
            "Epoch 5/20\n",
            "54000/54000 [==============================] - 5s 94us/step - loss: 0.0281 - acc: 0.9910 - val_loss: 0.0421 - val_acc: 0.9883\n",
            "Epoch 6/20\n",
            "54000/54000 [==============================] - 5s 94us/step - loss: 0.0232 - acc: 0.9927 - val_loss: 0.0300 - val_acc: 0.9910\n",
            "Epoch 7/20\n",
            "54000/54000 [==============================] - 5s 94us/step - loss: 0.0194 - acc: 0.9938 - val_loss: 0.0458 - val_acc: 0.9858\n",
            "Epoch 8/20\n",
            "54000/54000 [==============================] - 5s 94us/step - loss: 0.0171 - acc: 0.9944 - val_loss: 0.0377 - val_acc: 0.9905\n",
            "Epoch 9/20\n",
            "54000/54000 [==============================] - 5s 94us/step - loss: 0.0139 - acc: 0.9956 - val_loss: 0.0344 - val_acc: 0.9922\n",
            "Epoch 10/20\n",
            "54000/54000 [==============================] - 5s 94us/step - loss: 0.0114 - acc: 0.9964 - val_loss: 0.0389 - val_acc: 0.9912\n",
            "Epoch 11/20\n",
            "54000/54000 [==============================] - 5s 94us/step - loss: 0.0112 - acc: 0.9963 - val_loss: 0.0359 - val_acc: 0.9905\n",
            "Epoch 12/20\n",
            "54000/54000 [==============================] - 5s 94us/step - loss: 0.0088 - acc: 0.9969 - val_loss: 0.0301 - val_acc: 0.9927\n",
            "Epoch 13/20\n",
            "54000/54000 [==============================] - 5s 94us/step - loss: 0.0093 - acc: 0.9966 - val_loss: 0.0342 - val_acc: 0.9915\n",
            "Epoch 14/20\n",
            "54000/54000 [==============================] - 5s 94us/step - loss: 0.0078 - acc: 0.9973 - val_loss: 0.0323 - val_acc: 0.9912\n",
            "Epoch 15/20\n",
            "54000/54000 [==============================] - 5s 94us/step - loss: 0.0061 - acc: 0.9979 - val_loss: 0.0375 - val_acc: 0.9920\n",
            "Epoch 16/20\n",
            "54000/54000 [==============================] - 5s 94us/step - loss: 0.0072 - acc: 0.9976 - val_loss: 0.0379 - val_acc: 0.9923\n",
            "Epoch 17/20\n",
            "54000/54000 [==============================] - 5s 94us/step - loss: 0.0059 - acc: 0.9980 - val_loss: 0.0362 - val_acc: 0.9907\n",
            "Epoch 18/20\n",
            "54000/54000 [==============================] - 5s 94us/step - loss: 0.0057 - acc: 0.9979 - val_loss: 0.0456 - val_acc: 0.9915\n",
            "Epoch 19/20\n",
            "54000/54000 [==============================] - 5s 94us/step - loss: 0.0044 - acc: 0.9984 - val_loss: 0.0370 - val_acc: 0.9913\n",
            "Epoch 20/20\n",
            "54000/54000 [==============================] - 5s 94us/step - loss: 0.0047 - acc: 0.9984 - val_loss: 0.0460 - val_acc: 0.9920\n"
          ],
          "name": "stdout"
        }
      ]
    },
    {
      "metadata": {
        "id": "QqoMHU4-1sib",
        "colab_type": "code",
        "outputId": "0b8c1231-e582-4214-f408-55d317fdbf2a",
        "colab": {
          "base_uri": "https://localhost:8080/",
          "height": 51
        }
      },
      "cell_type": "code",
      "source": [
        "model.evaluate(XTest,YTest)"
      ],
      "execution_count": 0,
      "outputs": [
        {
          "output_type": "stream",
          "text": [
            "10000/10000 [==============================] - 1s 87us/step\n"
          ],
          "name": "stdout"
        },
        {
          "output_type": "execute_result",
          "data": {
            "text/plain": [
              "[0.034718466649535186, 0.9914]"
            ]
          },
          "metadata": {
            "tags": []
          },
          "execution_count": 21
        }
      ]
    },
    {
      "metadata": {
        "id": "3NS_ZNnQ2Q3u",
        "colab_type": "code",
        "outputId": "64de07df-f8b0-426f-ad95-0630db481180",
        "colab": {
          "base_uri": "https://localhost:8080/",
          "height": 340
        }
      },
      "cell_type": "code",
      "source": [
        "# Build a Model without Pooling?\n",
        "# Why Pooling is Important -> Reduce Params, Increase Receptive Field of the Network!\n",
        "\n",
        "model = Sequential()\n",
        "model.add(Conv2D(32,(3,3),activation='relu',input_shape=(28,28,1)))\n",
        "#model.add(MaxPool2D((2,2)))\n",
        "model.add(Conv2D(64,(3,3),activation='relu',input_shape=(28,28,1)))\n",
        "#model.add(MaxPool2D((2,2)))\n",
        "model.add(Conv2D(64,(3,3),activation='relu',input_shape=(28,28,1)))\n",
        "model.add(Flatten())\n",
        "model.add(Dense(64,activation='relu'))\n",
        "model.add(Dense(10,activation='softmax'))\n",
        "model.summary()"
      ],
      "execution_count": 0,
      "outputs": [
        {
          "output_type": "stream",
          "text": [
            "_________________________________________________________________\n",
            "Layer (type)                 Output Shape              Param #   \n",
            "=================================================================\n",
            "conv2d_10 (Conv2D)           (None, 26, 26, 32)        320       \n",
            "_________________________________________________________________\n",
            "conv2d_11 (Conv2D)           (None, 24, 24, 64)        18496     \n",
            "_________________________________________________________________\n",
            "conv2d_12 (Conv2D)           (None, 22, 22, 64)        36928     \n",
            "_________________________________________________________________\n",
            "flatten_4 (Flatten)          (None, 30976)             0         \n",
            "_________________________________________________________________\n",
            "dense_7 (Dense)              (None, 64)                1982528   \n",
            "_________________________________________________________________\n",
            "dense_8 (Dense)              (None, 10)                650       \n",
            "=================================================================\n",
            "Total params: 2,038,922\n",
            "Trainable params: 2,038,922\n",
            "Non-trainable params: 0\n",
            "_________________________________________________________________\n"
          ],
          "name": "stdout"
        }
      ]
    },
    {
      "metadata": {
        "id": "2RqPj-rZ8tfZ",
        "colab_type": "code",
        "colab": {}
      },
      "cell_type": "code",
      "source": [
        ""
      ],
      "execution_count": 0,
      "outputs": []
    }
  ]
}