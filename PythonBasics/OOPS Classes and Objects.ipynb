{
 "cells": [
  {
   "cell_type": "code",
   "execution_count": 3,
   "metadata": {},
   "outputs": [
    {
     "name": "stdout",
     "output_type": "stream",
     "text": [
      "HelloWorld !\n",
      "My name is  Prateek\n",
      "I am from  Coding Blocks\n",
      "I am  Indian\n",
      "\n",
      "My name is  Arnav\n",
      "I am from  Micromax\n",
      "I am  Indian\n"
     ]
    }
   ],
   "source": [
    "class Person:\n",
    "    #Class Variable, common for all objects of the same class\n",
    "    nationality = \"Indian\"\n",
    "    \n",
    "    def __init__(self,pname,clg):\n",
    "        #Instance Variable, these are different for every instance of the class\n",
    "        self.name = pname\n",
    "        self.college = clg\n",
    "        \n",
    "    def sayHi(self,name):\n",
    "        print(\"Hello\" + name)\n",
    "        \n",
    "    def introduce(self):\n",
    "        print(\"My name is \",self.name)\n",
    "        print(\"I am from \",self.college)\n",
    "        print(\"I am \",self.nationality)\n",
    "        \n",
    "p = Person(\"Prateek\",\"Coding Blocks\")\n",
    "p.sayHi(\"World !\")\n",
    "p.introduce()\n",
    "print()\n",
    "p2 = Person(\"Arnav\", \"Micromax\")\n",
    "p2.introduce()"
   ]
  },
  {
   "cell_type": "markdown",
   "metadata": {},
   "source": [
    "# The self parameter\n",
    "- The self parameter is a reference to the current instance of the class, and is used to access variables that belongs to the class.\n",
    "\n",
    "- It does not have to be named self , you can call it whatever you like, but it has to be the first parameter of any function in the class"
   ]
  },
  {
   "cell_type": "markdown",
   "metadata": {},
   "source": [
    "# Instance Variables VS Class Variables"
   ]
  },
  {
   "cell_type": "code",
   "execution_count": 6,
   "metadata": {},
   "outputs": [
    {
     "name": "stdout",
     "output_type": "stream",
     "text": [
      "German Shepherd\n",
      "['High Jump', 'Roll Over', 'Low Jump', 'Roll Upside Down']\n",
      "Golden Retriever\n",
      "['High Jump', 'Roll Over', 'Low Jump', 'Roll Upside Down']\n"
     ]
    }
   ],
   "source": [
    "class Dog():\n",
    "    color = \"Brown\"\n",
    "    #Common for all data members\n",
    "    activities = []\n",
    "    \n",
    "    def __init__(self,breed):\n",
    "        self.breed = breed\n",
    "        \n",
    "    def addActivity(self,act):\n",
    "        self.activities.append(act)\n",
    "        \n",
    "    def doActivity(self):\n",
    "        print(self.breed)\n",
    "        print(self.activities)\n",
    "        \n",
    "d1 = Dog(\"German Shepherd\")\n",
    "d2 = Dog(\"Golden Retriever\")\n",
    "\n",
    "d1.addActivity(\"High Jump\")\n",
    "d1.addActivity(\"Roll Over\")\n",
    "\n",
    "d2.addActivity(\"Low Jump\")\n",
    "d2.addActivity(\"Roll Upside Down\")\n",
    "\n",
    "d1.doActivity()\n",
    "d2.doActivity()\n",
    "\n",
    "#Here activities is a common attribute so both the instances share the same space"
   ]
  },
  {
   "cell_type": "markdown",
   "metadata": {},
   "source": [
    "- By default all members are public.\n",
    "- to make them private add __ before the name of the method"
   ]
  },
  {
   "cell_type": "code",
   "execution_count": 11,
   "metadata": {},
   "outputs": [
    {
     "name": "stdout",
     "output_type": "stream",
     "text": [
      "German Shepherd\n",
      "['High Jump', 'Roll Over']\n",
      "Doing secret activity \n",
      "Golden Retriever\n",
      "['Low Jump', 'Roll Upside Down']\n",
      "Doing secret activity \n"
     ]
    }
   ],
   "source": [
    "class Dog():\n",
    "    color = \"Brown\"\n",
    "    #Common for all data members\n",
    "    \n",
    "    \n",
    "    def __init__(self,breed):\n",
    "        self.breed = breed\n",
    "        self.activities = []\n",
    "        \n",
    "    def addActivity(self,act):\n",
    "        self.activities.append(act)\n",
    "        \n",
    "    def __secretActivity(self):\n",
    "        print(\"Doing secret activity \")\n",
    "        \n",
    "    def doActivity(self):\n",
    "        print(self.breed)\n",
    "        print(self.activities)\n",
    "        self.__secretActivity()\n",
    "        \n",
    "d1 = Dog(\"German Shepherd\")\n",
    "d2 = Dog(\"Golden Retriever\")\n",
    "\n",
    "d1.addActivity(\"High Jump\")\n",
    "d1.addActivity(\"Roll Over\")\n",
    "\n",
    "d2.addActivity(\"Low Jump\")\n",
    "d2.addActivity(\"Roll Upside Down\")\n",
    "\n",
    "d1.doActivity()\n",
    "d2.doActivity()\n",
    "\n",
    "#Here activities is a common attribute so both the instances share the same space"
   ]
  },
  {
   "cell_type": "markdown",
   "metadata": {},
   "source": [
    "# Inheritance in Python"
   ]
  },
  {
   "cell_type": "code",
   "execution_count": 3,
   "metadata": {},
   "outputs": [
    {
     "name": "stdout",
     "output_type": "stream",
     "text": [
      "Init School Member: Mr. Alpha\n",
      "Init Teacher : Mr. Alpha\n",
      "Name :Mr. Alpha 30\n",
      "Salary : 45000\n",
      "Init School Member: XYZ\n",
      "Init Student XYZ\n",
      "Name :XYZ 20\n",
      "Marks 90\n"
     ]
    }
   ],
   "source": [
    "class SchoolMember:\n",
    "    def __init__(self,name,age):\n",
    "        self.name = name\n",
    "        self.age = age\n",
    "        print(\"Init School Member: %s\"%self.name)\n",
    "        \n",
    "    def introduce(self):\n",
    "        print(\"Name :%s %d\"%(self.name,self.age))\n",
    "        \n",
    "class Teacher(SchoolMember):\n",
    "    '''Represents a school teacher'''\n",
    "    def __init__(self,name,age,salary):\n",
    "        SchoolMember.__init__(self,name,age)\n",
    "        self.salary = salary\n",
    "        print(\"Init Teacher : %s\"%self.name)\n",
    "        \n",
    "    def introduce(self):\n",
    "        SchoolMember.introduce(self)\n",
    "        print(\"Salary : %d\"%self.salary)\n",
    "        \n",
    "class Student(SchoolMember):\n",
    "    '''Represents a school student'''\n",
    "    def __init__(self,name,age,marks):\n",
    "        SchoolMember.__init__(self,name,age)\n",
    "        self.marks = marks\n",
    "        print(\"Init Student %s\"%(self.name))\n",
    "        \n",
    "    def introduce(self):\n",
    "        SchoolMember.introduce(self)\n",
    "        print(\"Marks %d\"%self.marks)\n",
    "    \n",
    "        \n",
    "t = Teacher(\"Mr. Alpha\", 30, 45000)\n",
    "t.introduce()\n",
    "\n",
    "s = Student(\"XYZ\",20,90)\n",
    "s.introduce()"
   ]
  },
  {
   "cell_type": "code",
   "execution_count": 2,
   "metadata": {},
   "outputs": [],
   "source": [
    "Teacher?\n"
   ]
  },
  {
   "cell_type": "code",
   "execution_count": null,
   "metadata": {},
   "outputs": [],
   "source": []
  }
 ],
 "metadata": {
  "kernelspec": {
   "display_name": "Python 3",
   "language": "python",
   "name": "python3"
  },
  "language_info": {
   "codemirror_mode": {
    "name": "ipython",
    "version": 3
   },
   "file_extension": ".py",
   "mimetype": "text/x-python",
   "name": "python",
   "nbconvert_exporter": "python",
   "pygments_lexer": "ipython3",
   "version": "3.7.3"
  }
 },
 "nbformat": 4,
 "nbformat_minor": 2
}
