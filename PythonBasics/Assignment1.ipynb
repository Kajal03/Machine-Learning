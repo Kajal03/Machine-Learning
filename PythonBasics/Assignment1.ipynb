{
 "cells": [
  {
   "cell_type": "markdown",
   "metadata": {},
   "source": [
    "# Generate Paranthesis"
   ]
  },
  {
   "cell_type": "code",
   "execution_count": 8,
   "metadata": {},
   "outputs": [
    {
     "name": "stdout",
     "output_type": "stream",
     "text": [
      "3\n",
      "()()()\n",
      "()(())\n",
      "(())()\n",
      "(()())\n",
      "((()))\n"
     ]
    }
   ],
   "source": [
    "n=int(input())\n",
    "\n",
    "def paranthesis(o,c,s=[]):\n",
    "    if(c==n):\n",
    "        print(\"\".join(s))\n",
    "        return\n",
    "    else:\n",
    "        if(c<o):\n",
    "            s.append(')')\n",
    "            paranthesis(o,c+1,s)\n",
    "            s.pop()\n",
    "        if(o<n):\n",
    "            s.append('(')\n",
    "            paranthesis(o+1,c,s)\n",
    "            s.pop()\n",
    "        \n",
    "   \n",
    "paranthesis(0,0)"
   ]
  },
  {
   "cell_type": "markdown",
   "metadata": {},
   "source": [
    "# Simple Input"
   ]
  },
  {
   "cell_type": "code",
   "execution_count": 24,
   "metadata": {},
   "outputs": [
    {
     "name": "stdout",
     "output_type": "stream",
     "text": [
      "2 3 -1000\n",
      "2\n",
      "3\n"
     ]
    }
   ],
   "source": [
    "number = [int(n) for n in input().split()]\n",
    "sum=0\n",
    "for a in number:\n",
    "    sum +=a \n",
    "    if(sum>=0):\n",
    "        print(a)\n",
    "    else:\n",
    "        break"
   ]
  },
  {
   "cell_type": "code",
   "execution_count": 3,
   "metadata": {},
   "outputs": [
    {
     "name": "stdout",
     "output_type": "stream",
     "text": [
      "1\n",
      "1\n",
      "2\n",
      "2\n",
      "3\n",
      "3\n",
      "5\n",
      "5\n",
      "7\n",
      "7\n",
      "-100\n"
     ]
    }
   ],
   "source": [
    "#number = [int(n) for n in input().split()]\n",
    "sum=0\n",
    "while sum>=0:\n",
    "    number = int(input())\n",
    "    sum += number \n",
    "    if(sum>=0):\n",
    "        print(number)\n",
    "    else:\n",
    "        break"
   ]
  },
  {
   "cell_type": "markdown",
   "metadata": {},
   "source": [
    "# PATTERN NUMBERS & STARS - 1"
   ]
  },
  {
   "cell_type": "code",
   "execution_count": 9,
   "metadata": {},
   "outputs": [
    {
     "name": "stdout",
     "output_type": "stream",
     "text": [
      "4\n",
      "1 2 3 4 \n",
      "1 2 3 * \n",
      "1 2 * * \n"
     ]
    }
   ],
   "source": [
    "n = int(input())\n",
    "for i in range(1,n):\n",
    "    for j in range(1,n+1):\n",
    "        if (i+j<=n+1):\n",
    "            print(j, end=\" \")\n",
    "        else:\n",
    "            print(\"*\", end=\" \")\n",
    "            \n",
    "    print()"
   ]
  },
  {
   "cell_type": "markdown",
   "metadata": {},
   "source": [
    "# Check Prime"
   ]
  },
  {
   "cell_type": "code",
   "execution_count": 16,
   "metadata": {},
   "outputs": [
    {
     "name": "stdout",
     "output_type": "stream",
     "text": [
      "239\n",
      "Prime\n",
      "0.0\n"
     ]
    }
   ],
   "source": [
    "import math\n",
    "import time\n",
    "flag = 0\n",
    "n = eval(input())\n",
    "start=time.time()\n",
    "for i in range(2,int(math.sqrt(n))+1):\n",
    "    if(n%i == 0):\n",
    "        flag=1\n",
    "        break\n",
    "if flag==0:\n",
    "    print(\"Prime\")\n",
    "else:\n",
    "    print(\"Not Prime\")\n",
    "end = time.time()\n",
    "print(end-start)"
   ]
  },
  {
   "cell_type": "markdown",
   "metadata": {},
   "source": [
    "# Pythogorean's Challenge"
   ]
  },
  {
   "cell_type": "code",
   "execution_count": 27,
   "metadata": {},
   "outputs": [],
   "source": [
    "import math"
   ]
  },
  {
   "cell_type": "code",
   "execution_count": 38,
   "metadata": {},
   "outputs": [
    {
     "name": "stdout",
     "output_type": "stream",
     "text": [
      "1.0\n"
     ]
    }
   ],
   "source": [
    "n = math.sqrt(1 - 0**2)\n",
    "print(n)"
   ]
  },
  {
   "cell_type": "code",
   "execution_count": 47,
   "metadata": {},
   "outputs": [
    {
     "name": "stdout",
     "output_type": "stream",
     "text": [
      "1\n",
      "0\n",
      "(0,0) \n"
     ]
    }
   ],
   "source": [
    "numbers = []\n",
    "n = int(input())\n",
    "for i in range(n):\n",
    "    numbers.append(int(input()))\n",
    "\n",
    "for i in numbers:\n",
    "    for j in range(math.floor(math.sqrt(i))+1):\n",
    "        b = math.sqrt(i - j*j)\n",
    "        if b.is_integer() and b>=j:\n",
    "            print(\"({},{}) \".format(j,int(b)), end=\"\")\n",
    "    print()\n",
    "            \n",
    "    "
   ]
  },
  {
   "cell_type": "code",
   "execution_count": 17,
   "metadata": {},
   "outputs": [
    {
     "name": "stdout",
     "output_type": "stream",
     "text": [
      "Enter a number: 12\n",
      "12 is not a prime number\n"
     ]
    }
   ],
   "source": [
    "num = int(input(\"Enter a number: \"))  \n",
    "  \n",
    "if num > 1:  \n",
    "   for i in range(2,int(math.sqrt(num))):  \n",
    "       if (num % i) == 0:  \n",
    "           print(num,\"is not a prime number\")  \n",
    "           break  \n",
    "   else:  \n",
    "       print(num,\"is a prime number\")  \n",
    "         \n",
    "else:  \n",
    "   print(num,\"is not a prime number\")  "
   ]
  },
  {
   "cell_type": "code",
   "execution_count": null,
   "metadata": {},
   "outputs": [],
   "source": []
  }
 ],
 "metadata": {
  "kernelspec": {
   "display_name": "Python 3",
   "language": "python",
   "name": "python3"
  },
  "language_info": {
   "codemirror_mode": {
    "name": "ipython",
    "version": 3
   },
   "file_extension": ".py",
   "mimetype": "text/x-python",
   "name": "python",
   "nbconvert_exporter": "python",
   "pygments_lexer": "ipython3",
   "version": "3.7.3"
  }
 },
 "nbformat": 4,
 "nbformat_minor": 2
}
