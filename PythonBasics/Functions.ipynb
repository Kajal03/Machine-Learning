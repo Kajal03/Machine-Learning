{
 "cells": [
  {
   "cell_type": "code",
   "execution_count": 11,
   "metadata": {},
   "outputs": [
    {
     "name": "stdout",
     "output_type": "stream",
     "text": [
      "Knock Knock Kajal\n",
      "Knock Knock Kajal\n",
      "Knock Knock Kajal\n",
      "Knock Knock Kajal\n",
      "Knock Knock Kajal\n"
     ]
    }
   ],
   "source": [
    "def sheldon(name,n=3):\n",
    "    for i in range(n):\n",
    "        print(\"Knock Knock {}\".format(name))\n",
    "        \n",
    "sheldon(\"Kajal\",5)"
   ]
  },
  {
   "cell_type": "code",
   "execution_count": null,
   "metadata": {},
   "outputs": [],
   "source": []
  },
  {
   "cell_type": "code",
   "execution_count": 1,
   "metadata": {},
   "outputs": [],
   "source": [
    "def div(a,b):\n",
    "    try:\n",
    "        return a/b\n",
    "    except:\n",
    "        print(\"Error\")\n",
    "    finally:\n",
    "        print(\"Wrapping up\")\n",
    "        print(\"Done\")\n",
    "        \n",
    "#it doesn't matter whether a return statement was encountered earlier or not...finally block will always execute"
   ]
  },
  {
   "cell_type": "code",
   "execution_count": 9,
   "metadata": {},
   "outputs": [
    {
     "name": "stdout",
     "output_type": "stream",
     "text": [
      "Wrapping up\n",
      "Done\n"
     ]
    },
    {
     "data": {
      "text/plain": [
       "5.0"
      ]
     },
     "execution_count": 9,
     "metadata": {},
     "output_type": "execute_result"
    }
   ],
   "source": [
    "div(10,2)"
   ]
  },
  {
   "cell_type": "code",
   "execution_count": 12,
   "metadata": {},
   "outputs": [
    {
     "name": "stdout",
     "output_type": "stream",
     "text": [
      "Error\n",
      "Wrapping up\n",
      "Done\n"
     ]
    }
   ],
   "source": [
    "div(10,0)"
   ]
  },
  {
   "cell_type": "code",
   "execution_count": 4,
   "metadata": {},
   "outputs": [],
   "source": [
    "def div(a,b):\n",
    "    try:\n",
    "        return a/b\n",
    "    except:\n",
    "        print(\"Error\")\n",
    "    finally:\n",
    "        return 10\n",
    "#function will evaluate to the return statement in the finally block and will discard any other return statements\n",
    "#if and if finally block has a return statement"
   ]
  },
  {
   "cell_type": "code",
   "execution_count": 3,
   "metadata": {},
   "outputs": [
    {
     "data": {
      "text/plain": [
       "10"
      ]
     },
     "execution_count": 3,
     "metadata": {},
     "output_type": "execute_result"
    }
   ],
   "source": [
    "div(10,2)"
   ]
  },
  {
   "cell_type": "markdown",
   "metadata": {},
   "source": [
    "# LEGB rule applies\n",
    "- Local\n",
    "- Enclosing\n",
    "- Global\n",
    "- Buil-in\n"
   ]
  },
  {
   "cell_type": "code",
   "execution_count": 2,
   "metadata": {},
   "outputs": [
    {
     "name": "stdout",
     "output_type": "stream",
     "text": [
      "local x\n",
      "global x\n"
     ]
    }
   ],
   "source": [
    "x = 'global x'\n",
    "def test():\n",
    "    x='local x'\n",
    "    print(x)\n",
    "test()\n",
    "print(x)"
   ]
  },
  {
   "cell_type": "code",
   "execution_count": 5,
   "metadata": {},
   "outputs": [
    {
     "name": "stdout",
     "output_type": "stream",
     "text": [
      "global x\n"
     ]
    }
   ],
   "source": [
    "x = 'global x'\n",
    "def test():\n",
    "    #x +=x*3   #will not work because updation in global variables is not allowed implicitly\n",
    "    x='local x'  #makes a new x\n",
    "    \n",
    "    \n",
    "test()\n",
    "print(x)"
   ]
  },
  {
   "cell_type": "code",
   "execution_count": 7,
   "metadata": {},
   "outputs": [
    {
     "name": "stdout",
     "output_type": "stream",
     "text": [
      "global x global x global x global x \n"
     ]
    }
   ],
   "source": [
    "#to make changes to the global x will have to use the keyword global inside the function\n",
    "x = 'global x '\n",
    "def test():\n",
    "    global x \n",
    "    x +=x*3   #will not work because updation in global variables is not allowed implicitly\n",
    "    \n",
    "    \n",
    "    \n",
    "test()\n",
    "print(x)"
   ]
  },
  {
   "cell_type": "markdown",
   "metadata": {},
   "source": [
    "# Default argument values"
   ]
  },
  {
   "cell_type": "code",
   "execution_count": 7,
   "metadata": {},
   "outputs": [],
   "source": [
    "def abc(a,b,c,d=10,e=20):\n",
    "    print(a)\n",
    "# just the way it was in c++"
   ]
  },
  {
   "cell_type": "markdown",
   "metadata": {},
   "source": [
    "# Keyword arguments"
   ]
  },
  {
   "cell_type": "code",
   "execution_count": 5,
   "metadata": {},
   "outputs": [],
   "source": [
    "def show(a,b,c):\n",
    "    print(a)\n",
    "    print(b)\n",
    "    print(c)"
   ]
  },
  {
   "cell_type": "code",
   "execution_count": 9,
   "metadata": {},
   "outputs": [
    {
     "name": "stdout",
     "output_type": "stream",
     "text": [
      "python\n",
      "hello\n",
      "world\n"
     ]
    }
   ],
   "source": [
    "show(b=\"hello\", c=\"world\",a=\"python\")\n",
    "#can change the order of keyword arguments"
   ]
  },
  {
   "cell_type": "code",
   "execution_count": 10,
   "metadata": {},
   "outputs": [],
   "source": [
    "def show1(a,b,c,d=\"something\",e=\"something more\"):\n",
    "    print(a)\n",
    "    print(b)\n",
    "    print(c)\n",
    "    print(d)\n",
    "    print(e)"
   ]
  },
  {
   "cell_type": "code",
   "execution_count": 11,
   "metadata": {},
   "outputs": [
    {
     "name": "stdout",
     "output_type": "stream",
     "text": [
      "hello\n",
      "world\n",
      "python\n",
      "something\n",
      "jatin\n"
     ]
    }
   ],
   "source": [
    "show1(\"hello\",\"world\",\"python\",e=\"jatin\")"
   ]
  },
  {
   "cell_type": "markdown",
   "metadata": {},
   "source": [
    "# packed arguments\n",
    "When we don’t know how many arguments need to be passed to a python function, we can use Packing to pack all arguments in a tuple."
   ]
  },
  {
   "cell_type": "code",
   "execution_count": 23,
   "metadata": {},
   "outputs": [],
   "source": [
    "def show2(a,b,c,*args):\n",
    "    print(args)\n",
    "    #print(args[1])"
   ]
  },
  {
   "cell_type": "code",
   "execution_count": 24,
   "metadata": {},
   "outputs": [
    {
     "name": "stdout",
     "output_type": "stream",
     "text": [
      "('kajal',)\n"
     ]
    }
   ],
   "source": [
    "show2(1,2,3,\"kajal\")"
   ]
  },
  {
   "cell_type": "code",
   "execution_count": 25,
   "metadata": {},
   "outputs": [
    {
     "name": "stdout",
     "output_type": "stream",
     "text": [
      "('kajal', 'gupta')\n"
     ]
    }
   ],
   "source": [
    "show2(1,2,3,\"kajal\",\"gupta\")"
   ]
  },
  {
   "cell_type": "code",
   "execution_count": 26,
   "metadata": {},
   "outputs": [],
   "source": [
    "#keyword arguments follow packed arguments\n",
    "def show(a,b,c,*args,d=10,e=20):\n",
    "    print(a)\n",
    "    print(args)\n",
    "    print(d)\n",
    "    print(e)"
   ]
  },
  {
   "cell_type": "code",
   "execution_count": 27,
   "metadata": {},
   "outputs": [
    {
     "name": "stdout",
     "output_type": "stream",
     "text": [
      "1\n",
      "('kajal', 'gupta')\n",
      "100\n",
      "20\n"
     ]
    }
   ],
   "source": [
    "show(1,2,3,\"kajal\",\"gupta\", d=100)"
   ]
  },
  {
   "cell_type": "markdown",
   "metadata": {},
   "source": [
    "# keyword packed arguments\n",
    "- One can think of the kwargs as being a dictionary that maps each keyword to the value that we pass alongside it. That is why when we iterate over the kwargs there doesn’t seem to be any order in which they were printed out.\n",
    "- so we have to pass the keys also that do not appear in the signature of the function"
   ]
  },
  {
   "cell_type": "code",
   "execution_count": 31,
   "metadata": {},
   "outputs": [],
   "source": [
    "def show(a,b,*args,d=1,e=5,**kwargs):\n",
    "    print(kwargs)"
   ]
  },
  {
   "cell_type": "code",
   "execution_count": 32,
   "metadata": {},
   "outputs": [
    {
     "name": "stdout",
     "output_type": "stream",
     "text": [
      "{'name': 'kajal'}\n"
     ]
    }
   ],
   "source": [
    "show(1,2,d=7,name=\"kajal\")"
   ]
  },
  {
   "cell_type": "markdown",
   "metadata": {},
   "source": [
    "# Lambda Functions\n",
    "- one liner functions"
   ]
  },
  {
   "cell_type": "code",
   "execution_count": 33,
   "metadata": {},
   "outputs": [],
   "source": [
    "def add(a,b):\n",
    "    return a+b"
   ]
  },
  {
   "cell_type": "code",
   "execution_count": 34,
   "metadata": {},
   "outputs": [],
   "source": [
    "add = lambda a,b: a+b"
   ]
  },
  {
   "cell_type": "code",
   "execution_count": 35,
   "metadata": {},
   "outputs": [
    {
     "data": {
      "text/plain": [
       "3"
      ]
     },
     "execution_count": 35,
     "metadata": {},
     "output_type": "execute_result"
    }
   ],
   "source": [
    "add(1,2)"
   ]
  },
  {
   "cell_type": "code",
   "execution_count": 36,
   "metadata": {},
   "outputs": [],
   "source": [
    "a = [(\"a\",1),(\"b\",5),(\"c\",3)]"
   ]
  },
  {
   "cell_type": "code",
   "execution_count": 38,
   "metadata": {},
   "outputs": [
    {
     "data": {
      "text/plain": [
       "[('a', 1), ('b', 5), ('c', 3)]"
      ]
     },
     "execution_count": 38,
     "metadata": {},
     "output_type": "execute_result"
    }
   ],
   "source": [
    "#sorted on the basis of the first object of the tuple\n",
    "sorted(a)"
   ]
  },
  {
   "cell_type": "code",
   "execution_count": 40,
   "metadata": {},
   "outputs": [],
   "source": [
    "sorted?\n"
   ]
  },
  {
   "cell_type": "code",
   "execution_count": 41,
   "metadata": {},
   "outputs": [
    {
     "data": {
      "text/plain": [
       "[('a', 1), ('c', 3), ('b', 5)]"
      ]
     },
     "execution_count": 41,
     "metadata": {},
     "output_type": "execute_result"
    }
   ],
   "source": [
    "#the argument key takes a lambda function that takes a object and returns the object which is to be compared\n",
    "#now sorting will be done on the basis of that object\n",
    "sorted(a,key = lambda x: x[1])"
   ]
  },
  {
   "cell_type": "markdown",
   "metadata": {},
   "source": [
    "# Decorators"
   ]
  },
  {
   "cell_type": "markdown",
   "metadata": {},
   "source": [
    "https://www.youtube.com/watch?v=FsAPt_9Bf3U"
   ]
  },
  {
   "cell_type": "markdown",
   "metadata": {},
   "source": [
    "https://www.youtube.com/watch?v=swU3c34d2NQ"
   ]
  },
  {
   "cell_type": "markdown",
   "metadata": {},
   "source": [
    "https://www.youtube.com/watch?v=kr0mpwqttM0"
   ]
  },
  {
   "cell_type": "markdown",
   "metadata": {},
   "source": [
    "# First Class Functions\n",
    "- All functions in Python are first-class functions. To say that functions are first-class in a certain programming language means that they can be passed around and manipulated similarly to how you would pass around and manipulate other kinds of objects (like integers or strings). You can assign a function to a variable, pass it as an argument to another function, etc. The distinction is not that individual functions can be first class or not, but that entire languages may treat functions as first-class objects, or may not."
   ]
  },
  {
   "cell_type": "code",
   "execution_count": 2,
   "metadata": {},
   "outputs": [
    {
     "name": "stdout",
     "output_type": "stream",
     "text": [
      "[1, 4, 9, 16, 25]\n"
     ]
    }
   ],
   "source": [
    "def square(x):\n",
    "    return x*x\n",
    "\n",
    "def cube(x):\n",
    "    return x*x*x\n",
    "\n",
    "def my_map(func,arg_list):\n",
    "    result=[]\n",
    "    for i in arg_list:\n",
    "        result.append(func(i))\n",
    "    return result\n",
    "\n",
    "squares = my_map(square,[1,2,3,4,5])\n",
    "\n",
    "print(squares)"
   ]
  },
  {
   "cell_type": "code",
   "execution_count": 4,
   "metadata": {},
   "outputs": [
    {
     "name": "stdout",
     "output_type": "stream",
     "text": [
      "[1, 8, 27, 64, 125]\n"
     ]
    }
   ],
   "source": [
    "cubes = my_map(cube,[1,2,3,4,5])\n",
    "print(cubes)"
   ]
  },
  {
   "cell_type": "code",
   "execution_count": null,
   "metadata": {},
   "outputs": [],
   "source": []
  },
  {
   "cell_type": "code",
   "execution_count": 5,
   "metadata": {},
   "outputs": [
    {
     "name": "stdout",
     "output_type": "stream",
     "text": [
      "Log: Hi!\n"
     ]
    }
   ],
   "source": [
    "def logger(msg):\n",
    "    \n",
    "    def log_message():\n",
    "        print('Log:',msg)\n",
    "        \n",
    "    return log_message\n",
    "log_hi = logger('Hi!')\n",
    "log_hi()"
   ]
  },
  {
   "cell_type": "code",
   "execution_count": null,
   "metadata": {},
   "outputs": [],
   "source": []
  },
  {
   "cell_type": "code",
   "execution_count": 6,
   "metadata": {},
   "outputs": [
    {
     "name": "stdout",
     "output_type": "stream",
     "text": [
      "<h1>Test Headline !</h1>\n",
      "<h1>Another Headline !</h1>\n"
     ]
    }
   ],
   "source": [
    "def html_tag(tag):\n",
    "    \n",
    "    def wrap_text(msg):\n",
    "        print('<{0}>{1}</{0}>'.format(tag,msg))\n",
    "        \n",
    "    return wrap_text\n",
    "\n",
    "print_h1 = html_tag('h1')\n",
    "print_h1('Test Headline !')\n",
    "print_h1('Another Headline !')"
   ]
  },
  {
   "cell_type": "code",
   "execution_count": 7,
   "metadata": {},
   "outputs": [
    {
     "name": "stdout",
     "output_type": "stream",
     "text": [
      "<p>Test Paragraph !</p>\n"
     ]
    }
   ],
   "source": [
    "print_p = html_tag('p')\n",
    "print_p('Test Paragraph !')"
   ]
  },
  {
   "cell_type": "markdown",
   "metadata": {},
   "source": [
    "# Closures\n",
    "- A Closure is a function object that remembers values in enclosing scopes even if they are not present in memory\n",
    "- It is a record that stores a function together with an environment: a mapping associating each free variable of the function (variables that are used locally, but defined in an enclosing scope) with the value or reference to which the name was bound when the closure was created.\n",
    "- A closure—unlike a plain function—allows the function to access those captured variables through the closure’s copies of their values or references, even when the function is invoked outside their scope."
   ]
  },
  {
   "cell_type": "code",
   "execution_count": 14,
   "metadata": {},
   "outputs": [
    {
     "name": "stdout",
     "output_type": "stream",
     "text": [
      "Hi\n",
      "Hello\n"
     ]
    }
   ],
   "source": [
    "def outer(msg):\n",
    "    message = msg\n",
    "    \n",
    "    def inner():\n",
    "        print(message)\n",
    "    \n",
    "    return inner\n",
    "\n",
    "hi_msg = outer('Hi') #here outer function is not executed but it is waiting to be executed\n",
    "hello_msg = outer('Hello')\n",
    "#This is a closure , because it remembers our msg variable even after our msg variable is finished executing\n",
    "\n",
    "hi_msg()\n",
    "hello_msg()\n"
   ]
  },
  {
   "cell_type": "markdown",
   "metadata": {},
   "source": [
    "# Decorators\n",
    "- a decorator is a function that takes another function as an argument, adds some kind of functionality and then returns another function. All of this without altering the source code of the original function that you passed in."
   ]
  },
  {
   "cell_type": "code",
   "execution_count": 2,
   "metadata": {},
   "outputs": [
    {
     "name": "stdout",
     "output_type": "stream",
     "text": [
      "display function ran\n"
     ]
    }
   ],
   "source": [
    "def decorator_function(original_function):\n",
    "    def wrapper_function():\n",
    "        return original_function()\n",
    "    return wrapper_function\n",
    "\n",
    "def display():\n",
    "    print('display function ran')"
   ]
  },
  {
   "cell_type": "code",
   "execution_count": 3,
   "metadata": {},
   "outputs": [
    {
     "name": "stdout",
     "output_type": "stream",
     "text": [
      "display function ran\n"
     ]
    }
   ],
   "source": [
    "decorated_display = decorator_function(display)\n",
    "\n",
    "decorated_display()\n"
   ]
  },
  {
   "cell_type": "code",
   "execution_count": 4,
   "metadata": {},
   "outputs": [
    {
     "name": "stdout",
     "output_type": "stream",
     "text": [
      "display function ran2\n"
     ]
    }
   ],
   "source": [
    "@decorator_function\n",
    "def display():\n",
    "    print('display function ran2')\n",
    "    \n",
    "display = decorator_function(display)\n",
    "\n",
    "display()"
   ]
  },
  {
   "cell_type": "markdown",
   "metadata": {},
   "source": [
    "# Authentication example"
   ]
  },
  {
   "cell_type": "code",
   "execution_count": 16,
   "metadata": {},
   "outputs": [],
   "source": [
    "users = {\"kajal\":123, \"abc\":456}"
   ]
  },
  {
   "cell_type": "code",
   "execution_count": 10,
   "metadata": {},
   "outputs": [],
   "source": [
    "def login_required(func):\n",
    "    def wrapper(username, password, *args, **kwargs):\n",
    "        if username in users and users[username] == password:\n",
    "            #user is authenticated\n",
    "            func(*args, **kwargs)\n",
    "        else:\n",
    "            print(\"Not Authenticated\")\n",
    "            \n",
    "    return wrapper"
   ]
  },
  {
   "cell_type": "code",
   "execution_count": 11,
   "metadata": {},
   "outputs": [],
   "source": [
    "# 1\n",
    "def add(a, b):\n",
    "    print(a+b)\n",
    "add = login_required(add)"
   ]
  },
  {
   "cell_type": "code",
   "execution_count": 12,
   "metadata": {},
   "outputs": [],
   "source": [
    "# 2\n",
    "@login_required\n",
    "def add(a, b):\n",
    "    print(a+b)"
   ]
  },
  {
   "cell_type": "code",
   "execution_count": 13,
   "metadata": {},
   "outputs": [],
   "source": [
    "# 1 and # 2 are equivalent code"
   ]
  },
  {
   "cell_type": "code",
   "execution_count": 17,
   "metadata": {},
   "outputs": [
    {
     "name": "stdout",
     "output_type": "stream",
     "text": [
      "6\n"
     ]
    }
   ],
   "source": [
    "add(\"kajal\",123,2,4)"
   ]
  },
  {
   "cell_type": "code",
   "execution_count": 18,
   "metadata": {},
   "outputs": [
    {
     "name": "stdout",
     "output_type": "stream",
     "text": [
      "Not Authenticated\n"
     ]
    }
   ],
   "source": [
    "add(\"kajal\",234,2,4)"
   ]
  },
  {
   "cell_type": "code",
   "execution_count": null,
   "metadata": {},
   "outputs": [],
   "source": []
  }
 ],
 "metadata": {
  "kernelspec": {
   "display_name": "Python 3",
   "language": "python",
   "name": "python3"
  },
  "language_info": {
   "codemirror_mode": {
    "name": "ipython",
    "version": 3
   },
   "file_extension": ".py",
   "mimetype": "text/x-python",
   "name": "python",
   "nbconvert_exporter": "python",
   "pygments_lexer": "ipython3",
   "version": "3.7.3"
  }
 },
 "nbformat": 4,
 "nbformat_minor": 2
}
