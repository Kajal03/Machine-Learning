{
 "cells": [
  {
   "cell_type": "markdown",
   "metadata": {},
   "source": [
    "## Try Except"
   ]
  },
  {
   "cell_type": "code",
   "execution_count": 2,
   "metadata": {},
   "outputs": [
    {
     "name": "stdout",
     "output_type": "stream",
     "text": [
      "File does not exist. Please upload\n"
     ]
    }
   ],
   "source": [
    "try:\n",
    "    f = open(\"someMissingFile.txt\",'r')\n",
    "    \n",
    "except FileNotFoundError:\n",
    "    print(\"File does not exist. Please upload\")\n",
    "    \n",
    "except Exception:\n",
    "    print(\"Something went wrong. In general exception\")"
   ]
  },
  {
   "cell_type": "code",
   "execution_count": 3,
   "metadata": {},
   "outputs": [
    {
     "name": "stdout",
     "output_type": "stream",
     "text": [
      "Something went wrong. In general exception\n"
     ]
    }
   ],
   "source": [
    "try:\n",
    "    a = 10/0\n",
    "    f = open(\"someMissingFile.txt\",'r')\n",
    "    \n",
    "except FileNotFoundError:\n",
    "    print(\"File does not exist. Please upload\")\n",
    "    \n",
    "except Exception:\n",
    "    print(\"Something went wrong. In general exception\")"
   ]
  },
  {
   "cell_type": "code",
   "execution_count": 5,
   "metadata": {},
   "outputs": [
    {
     "name": "stdout",
     "output_type": "stream",
     "text": [
      "b is not defined\n",
      "<class 'NameError'>\n"
     ]
    }
   ],
   "source": [
    "try:\n",
    "    a = b\n",
    "    f = open(\"someMissingFile.txt\",'r')\n",
    "    \n",
    "except FileNotFoundError:\n",
    "    print(\"File does not exist. Please upload\")\n",
    "    \n",
    "except NameError:\n",
    "    print(\"b is not defined\")\n",
    "    print(NameError)\n",
    "    \n",
    "except Exception:\n",
    "    print(\"Something went wrong. In general exception\")\n",
    "    print(Exception)"
   ]
  },
  {
   "cell_type": "code",
   "execution_count": 7,
   "metadata": {},
   "outputs": [
    {
     "name": "stdout",
     "output_type": "stream",
     "text": [
      "Enter your namead\n",
      "Something went wrong. In general exception\n",
      "<class 'Exception'>\n"
     ]
    }
   ],
   "source": [
    "try:\n",
    "    name = input(\"Enter your name\")\n",
    "    if len(name)<3:\n",
    "        raise Exception\n",
    "    \n",
    "except FileNotFoundError:\n",
    "    print(\"File does not exist. Please upload\")\n",
    "    \n",
    "except NameError:\n",
    "    print(\"b is not defined\")\n",
    "    print(NameError)\n",
    "    \n",
    "except Exception:\n",
    "    print(\"Something went wrong. In general exception\")\n",
    "    print(Exception)\n",
    "    \n",
    "else:\n",
    "    print(\"Try executed without any error\")\n",
    "    print(\"Form submitted successfully\")"
   ]
  },
  {
   "cell_type": "code",
   "execution_count": 8,
   "metadata": {},
   "outputs": [
    {
     "name": "stdout",
     "output_type": "stream",
     "text": [
      "Enter your nameac\n",
      "Something went wrong. In general exception\n",
      "<class 'Exception'>\n",
      "Finally will always execute\n"
     ]
    }
   ],
   "source": [
    "try:\n",
    "    name = input(\"Enter your name\")\n",
    "    if len(name)<3:\n",
    "        raise Exception\n",
    "    \n",
    "except FileNotFoundError:\n",
    "    print(\"File does not exist. Please upload\")\n",
    "    \n",
    "except NameError:\n",
    "    print(\"b is not defined\")\n",
    "    print(NameError)\n",
    "    \n",
    "except Exception:\n",
    "    print(\"Something went wrong. In general exception\")\n",
    "    print(Exception)\n",
    "    \n",
    "else:\n",
    "    print(\"Try executed without any error\")\n",
    "    print(\"Form submitted successfully\")\n",
    "    \n",
    "finally:\n",
    "    print(\"Finally will always execute\")"
   ]
  },
  {
   "cell_type": "markdown",
   "metadata": {},
   "source": [
    "- If an exception is raised then control goes in the except block\n",
    "- if exception is not raised then control goes in else block\n",
    "- finally will always execute, whether exception is raised or not"
   ]
  },
  {
   "cell_type": "code",
   "execution_count": null,
   "metadata": {},
   "outputs": [],
   "source": []
  }
 ],
 "metadata": {
  "kernelspec": {
   "display_name": "Python 3",
   "language": "python",
   "name": "python3"
  },
  "language_info": {
   "codemirror_mode": {
    "name": "ipython",
    "version": 3
   },
   "file_extension": ".py",
   "mimetype": "text/x-python",
   "name": "python",
   "nbconvert_exporter": "python",
   "pygments_lexer": "ipython3",
   "version": "3.7.3"
  }
 },
 "nbformat": 4,
 "nbformat_minor": 2
}
