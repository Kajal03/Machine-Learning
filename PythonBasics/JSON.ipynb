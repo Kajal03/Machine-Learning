{
 "cells": [
  {
   "cell_type": "markdown",
   "metadata": {},
   "source": [
    "# JSON - JavaScript Object Notation"
   ]
  },
  {
   "cell_type": "markdown",
   "metadata": {},
   "source": [
    "## 4 Important methods\n",
    "### Serialize - object to string\n",
    "1. json.dumps(obj)\n",
    "2. json.dumps(obj,file)    \n",
    "\n",
    "### Deserialize - string to object\n",
    "3. json.load(JSON file)\n",
    "4. json.loads(JSON File)"
   ]
  },
  {
   "cell_type": "code",
   "execution_count": 1,
   "metadata": {},
   "outputs": [
    {
     "name": "stdout",
     "output_type": "stream",
     "text": [
      "<class 'dict'>\n",
      "{'name': 'A1', 'age': 30}\n"
     ]
    }
   ],
   "source": [
    "import json\n",
    "\n",
    "#Python Object\n",
    "\n",
    "book = {\n",
    "    \"name\":\"learning Python\",\n",
    "    \"page\":320,\n",
    "    \"authors\":[\n",
    "        {\n",
    "            \"name\":\"A1\",\n",
    "            \"age\":30\n",
    "        },\n",
    "        {\n",
    "            \"name\":\"A2\",\n",
    "            \"age\":40\n",
    "        }\n",
    "    ]\n",
    "}\n",
    "\n",
    "\n",
    "print(type(book))\n",
    "print(book['authors'][0])"
   ]
  },
  {
   "cell_type": "code",
   "execution_count": 2,
   "metadata": {},
   "outputs": [],
   "source": [
    "with open(\"myJsonFile.json\",'w') as f:\n",
    "    json.dump(book,f)"
   ]
  },
  {
   "cell_type": "code",
   "execution_count": 3,
   "metadata": {},
   "outputs": [
    {
     "name": "stdout",
     "output_type": "stream",
     "text": [
      "<class 'str'>\n"
     ]
    }
   ],
   "source": [
    "s = json.dumps(book)  #Returns a string\n",
    "print(type(s))"
   ]
  },
  {
   "cell_type": "code",
   "execution_count": 4,
   "metadata": {},
   "outputs": [
    {
     "name": "stdout",
     "output_type": "stream",
     "text": [
      "{'name': 'learning Python', 'page': 320, 'authors': [{'name': 'A1', 'age': 30}, {'name': 'A2', 'age': 40}]}\n",
      "<class 'dict'>\n"
     ]
    }
   ],
   "source": [
    "obj = json.loads(s)\n",
    "print(obj)\n",
    "print(type(obj))"
   ]
  },
  {
   "cell_type": "code",
   "execution_count": 5,
   "metadata": {},
   "outputs": [
    {
     "name": "stdout",
     "output_type": "stream",
     "text": [
      "{'name': 'learning Python', 'page': 320, 'authors': [{'name': 'A1', 'age': 30}, {'name': 'A2', 'age': 40}]}\n"
     ]
    }
   ],
   "source": [
    "with open(\"myJsonFile.json\",'r') as f:\n",
    "    data = json.load(f)\n",
    "    print(data)"
   ]
  },
  {
   "cell_type": "code",
   "execution_count": 6,
   "metadata": {},
   "outputs": [
    {
     "name": "stdout",
     "output_type": "stream",
     "text": [
      "{'authors': [{'age': 30, 'name': 'A1'}, {'age': 40, 'name': 'A2'}],\n",
      " 'name': 'learning Python',\n",
      " 'page': 320}\n"
     ]
    }
   ],
   "source": [
    "import pprint\n",
    "\n",
    "with open(\"myJsonFile.json\",'r') as f:\n",
    "    data = json.load(f)\n",
    "    pprint.pprint(data)"
   ]
  },
  {
   "cell_type": "code",
   "execution_count": 9,
   "metadata": {},
   "outputs": [
    {
     "ename": "NameError",
     "evalue": "name 'authors' is not defined",
     "output_type": "error",
     "traceback": [
      "\u001b[1;31m---------------------------------------------------------------------------\u001b[0m",
      "\u001b[1;31mNameError\u001b[0m                                 Traceback (most recent call last)",
      "\u001b[1;32m<ipython-input-9-77194a20c9a5>\u001b[0m in \u001b[0;36m<module>\u001b[1;34m\u001b[0m\n\u001b[0;32m      1\u001b[0m \u001b[1;32mfor\u001b[0m \u001b[0mauthor\u001b[0m \u001b[1;32min\u001b[0m \u001b[0mdata\u001b[0m\u001b[1;33m:\u001b[0m\u001b[1;33m\u001b[0m\u001b[1;33m\u001b[0m\u001b[0m\n\u001b[1;32m----> 2\u001b[1;33m     \u001b[0mprint\u001b[0m\u001b[1;33m(\u001b[0m\u001b[0mauthors\u001b[0m\u001b[1;33m)\u001b[0m\u001b[1;33m\u001b[0m\u001b[1;33m\u001b[0m\u001b[0m\n\u001b[0m",
      "\u001b[1;31mNameError\u001b[0m: name 'authors' is not defined"
     ]
    }
   ],
   "source": []
  },
  {
   "cell_type": "code",
   "execution_count": null,
   "metadata": {},
   "outputs": [],
   "source": []
  }
 ],
 "metadata": {
  "kernelspec": {
   "display_name": "Python 3",
   "language": "python",
   "name": "python3"
  },
  "language_info": {
   "codemirror_mode": {
    "name": "ipython",
    "version": 3
   },
   "file_extension": ".py",
   "mimetype": "text/x-python",
   "name": "python",
   "nbconvert_exporter": "python",
   "pygments_lexer": "ipython3",
   "version": "3.7.3"
  }
 },
 "nbformat": 4,
 "nbformat_minor": 2
}
