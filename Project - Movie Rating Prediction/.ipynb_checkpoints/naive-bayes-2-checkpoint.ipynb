{
 "cells": [
  {
   "cell_type": "code",
   "execution_count": 2,
   "metadata": {},
   "outputs": [],
   "source": [
    "import numpy as np\n",
    "import matplotlib.pyplot as plt\n",
    "import pandas as pd\n",
    "import re\n",
    "import pickle\n",
    "from pandas_ml import ConfusionMatrix"
   ]
  },
  {
   "cell_type": "code",
   "execution_count": 3,
   "metadata": {},
   "outputs": [],
   "source": [
    "USE_SAVED_MODEL = False"
   ]
  },
  {
   "cell_type": "code",
   "execution_count": null,
   "metadata": {},
   "outputs": [],
   "source": []
  },
  {
   "cell_type": "code",
   "execution_count": 4,
   "metadata": {},
   "outputs": [],
   "source": [
    "def saveModel(model,filename):\n",
    "    pickle.dump(model, open(filename, 'wb'))\n",
    "\n",
    "def loadModel(filename):\n",
    "    loaded_model = pickle.load(open(filename, 'rb'))\n",
    "    return loaded_model\n"
   ]
  },
  {
   "cell_type": "code",
   "execution_count": 5,
   "metadata": {},
   "outputs": [],
   "source": [
    "def readData(train_file,label_file):\n",
    "    \n",
    "    fp = open(train_file,encoding=\"utf8\")\n",
    "    \n",
    "    reviews_train = fp.readlines()\n",
    "    #print(len(reviews_train))\n",
    "    #print(reviews_train[0])\n",
    "    fp.close()\n",
    "    \n",
    "    labels = pd.read_table(label_file,encoding=\"utf8\",header=None)\n",
    "    y_train = labels.values\n",
    "    return reviews_train,y_train\n",
    "\n",
    "    \n",
    "train_file = '.\\imdb\\stemmed_imdb_train_text.txt'\n",
    "train_label_file = '.\\imdb\\imdb_train_labels.txt'\n",
    "xtrain,ytrain = readData(train_file,train_label_file)\n",
    "\n",
    "#print(len(xtrain))\n",
    "#print(ytrain.shape)\n",
    "#print(ytrain)\n",
    "\n"
   ]
  },
  {
   "cell_type": "code",
   "execution_count": 23,
   "metadata": {},
   "outputs": [
    {
     "name": "stdout",
     "output_type": "stream",
     "text": [
      "495\n"
     ]
    }
   ],
   "source": [
    "def generateStopList():\n",
    "    \"\"\"\n",
    "    This function generates a stop list dictionary of words from the given file, \n",
    "    this is currently not used in the project.\n",
    "    \"\"\"\n",
    "    fp = open('stopwords.txt',encoding='utf8')\n",
    "    stop_words = fp.readlines()\n",
    "    fp.close()\n",
    "    \n",
    "    stop_dict = {}\n",
    "    \n",
    "    for i in range(len(stop_words)):\n",
    "        stop_words[i] = stop_words[i].rstrip()\n",
    "        \n",
    "        try:\n",
    "            stop_dict[stop_words[i]] = True\n",
    "        except:\n",
    "            stop_dict[stop_words[i]] = True\n",
    "    \n",
    "    return stop_dict\n",
    "\n",
    "    \n",
    "    \n",
    "stop_dict = generateStopList()\n",
    "#print(stop_dict)\n",
    "print(len(stop_dict.keys()))\n",
    "\n"
   ]
  },
  {
   "cell_type": "code",
   "execution_count": 6,
   "metadata": {},
   "outputs": [],
   "source": [
    "def isStopWord(word):\n",
    "    if word in stop_dict:\n",
    "        return True\n",
    "    else:\n",
    "        return False\n",
    "    \n",
    "def getWords(sentence):\n",
    "    \"\"\"\n",
    "    This function does tokenization of a string, removes extra characters & numbers , converts everything to lower case.\n",
    "    and returns a list of relevant words of length > 2\n",
    "    \"\"\"\n",
    "    #sentence = \"Hey , what's up bro ? Nice.\"\n",
    "    \n",
    "    sentence = sentence.lower()\n",
    "    sentence = re.sub(r'[0-9]+', '',sentence)\n",
    "    sentence = re.sub(r'(<br />)+','',sentence)\n",
    "    sentence = re.sub(r'[_]+','',sentence)\n",
    "        \n",
    "    words = re.findall(\"[\\w]+\",sentence)\n",
    "    \n",
    "    \n",
    "    new_words = []\n",
    "    \n",
    "    for w in words:\n",
    "        new_words.append(w)\n",
    "\n",
    "    return new_words\n",
    "\n",
    "def getDictionary(xtrain):\n",
    "    \"\"\"\n",
    "    This function forms a Vocabulary of First, each word is mapped with 11 columns,\n",
    "    the first column stores frequences, rest 10 columns denote the frequence of the word in that rating.\n",
    "    \"\"\"\n",
    "    Vocab = {}\n",
    "    for sentence in xtrain:\n",
    "        words = getWords(sentence)\n",
    "        for word in words:\n",
    "                try:\n",
    "                    Vocab[word][0] += 1\n",
    "                except:\n",
    "                    Vocab[word] = np.ones((11,))\n",
    "                    \n",
    "    return Vocab\n",
    "\n"
   ]
  },
  {
   "cell_type": "code",
   "execution_count": 9,
   "metadata": {},
   "outputs": [],
   "source": [
    "USE_SAVED_MODEL = False\n",
    "if USE_SAVED_MODEL==True:\n",
    "    Vocab = loadModel('./models/vocab_2.pickle')\n",
    "else:\n",
    "    Vocab = getDictionary(xtrain)\n",
    "    saveModel(Vocab,'./models/vocab_2.pickle')"
   ]
  },
  {
   "cell_type": "code",
   "execution_count": 10,
   "metadata": {},
   "outputs": [
    {
     "name": "stdout",
     "output_type": "stream",
     "text": [
      "['love', 'movi', 'sinc', 'saw', 'open', 'day', 'touch', 'beauti', 'strongli', 'recommend', 'see', 'movi', 'watch', 'famili', 'far', 'mpaa', 'rate', 'pg', 'themat', 'element', 'prolong', 'scene', 'disastor', 'nuditi', 'sexual', 'languag']\n"
     ]
    }
   ],
   "source": [
    "print(getWords(xtrain[0]))"
   ]
  },
  {
   "cell_type": "code",
   "execution_count": 12,
   "metadata": {},
   "outputs": [
    {
     "name": "stdout",
     "output_type": "stream",
     "text": [
      "[9.026e+03 1.000e+00 1.000e+00 1.000e+00 1.000e+00 1.000e+00 1.000e+00\n",
      " 1.000e+00 1.000e+00 1.000e+00 1.000e+00]\n"
     ]
    }
   ],
   "source": [
    "print(Vocab['love'])\n"
   ]
  },
  {
   "cell_type": "code",
   "execution_count": 14,
   "metadata": {},
   "outputs": [
    {
     "name": "stdout",
     "output_type": "stream",
     "text": [
      "50057\n",
      "[9.026e+03 1.000e+00 1.000e+00 1.000e+00 1.000e+00 1.000e+00 1.000e+00\n",
      " 1.000e+00 1.000e+00 1.000e+00 1.000e+00]\n"
     ]
    }
   ],
   "source": [
    "vocab_size = len(Vocab.keys())\n",
    "words_list = Vocab.keys()\n",
    "words_list = sorted(words_list)\n",
    "#print(words_list)\n",
    "print(vocab_size)\n",
    "print(Vocab['love'])\n",
    "#print(words_list[:1100])"
   ]
  },
  {
   "cell_type": "code",
   "execution_count": 15,
   "metadata": {},
   "outputs": [
    {
     "name": "stdout",
     "output_type": "stream",
     "text": [
      "50057\n",
      "2987725.0\n"
     ]
    }
   ],
   "source": [
    "def getUniqueAndTotalWords(Vocab):\n",
    "    ans = 0\n",
    "    for key in Vocab.keys():\n",
    "        ans += Vocab[key][0]\n",
    "    uniq = len(Vocab.keys())\n",
    "    return uniq,ans\n",
    "\n",
    "uniq,total = getUniqueAndTotalWords(Vocab)\n",
    "print(uniq)\n",
    "print(total)"
   ]
  },
  {
   "cell_type": "code",
   "execution_count": 17,
   "metadata": {},
   "outputs": [
    {
     "name": "stdout",
     "output_type": "stream",
     "text": [
      "[9.026e+03 1.000e+00 1.000e+00 1.000e+00 1.000e+00 1.000e+00 1.000e+00\n",
      " 1.000e+00 1.000e+00 1.000e+00 1.000e+00]\n"
     ]
    }
   ],
   "source": [
    "print(Vocab['love'])\n",
    "#Vocab['loved'][1] +=1\n",
    "#print(Vocab['loved'])"
   ]
  },
  {
   "cell_type": "code",
   "execution_count": 18,
   "metadata": {
    "scrolled": true
   },
   "outputs": [],
   "source": [
    "\n",
    "VL = len(words_list)\n",
    "#print(words_list)\n",
    "#print(len(words_list))\n",
    "#print(vocab_size)\n",
    "\n",
    "    \n",
    "def getTable(Vocab,x_train,y_train,vocab_size):\n",
    "        # No of Words\n",
    "        #1 for normalization\n",
    "        m = len(x_train)\n",
    "        \n",
    "        for j in range(m):\n",
    "            for word in getWords(x_train[j]):\n",
    "                rating = y_train[j][0]\n",
    "                Vocab[word][rating] +=1\n",
    "        \n",
    "        \n",
    "        class_wise_sum = np.zeros((11))\n",
    "        \n",
    "        for j in range(m):\n",
    "            c_rating = y_train[j][0]\n",
    "            c_wordcnt = len(getWords(xtrain[j]))\n",
    "            class_wise_sum[c_rating] += c_wordcnt\n",
    "        \n",
    "        #Laplace Smoothing in denominator\n",
    "        vocab_size = VL\n",
    "        for i in range(1,11):\n",
    "            class_wise_sum[i] +=  vocab_size\n",
    "        \n",
    "        #print(class_wise_sum)\n",
    "        #Update the Values = Num/Denom\n",
    "        for i in Vocab.keys():\n",
    "            for j in range(1,11):\n",
    "                Vocab[i][j] /= class_wise_sum[j]\n",
    "                \n",
    "                \n",
    "        return Vocab\n",
    "\n",
    "\n",
    "USE_SAVED_MODEL = False\n",
    "if USE_SAVED_MODEL==False:\n",
    "    table = getTable(Vocab,xtrain,ytrain,VL)\n",
    "    saveModel(table,'./models/nbtable_2.pickle')\n",
    "else:\n",
    "    table = loadModel('./models/nbtable_2.pickle')"
   ]
  },
  {
   "cell_type": "code",
   "execution_count": 19,
   "metadata": {},
   "outputs": [
    {
     "name": "stdout",
     "output_type": "stream",
     "text": [
      "[9.02600000e+03 1.58262933e-03 1.76218229e-03 1.75296318e-03\n",
      " 1.86700633e-03 1.99772260e-05 1.99772260e-05 2.54498807e-03\n",
      " 3.20840967e-03 3.50578766e-03 4.63884323e-03]\n"
     ]
    }
   ],
   "source": [
    "print(table['love'])"
   ]
  },
  {
   "cell_type": "code",
   "execution_count": 20,
   "metadata": {},
   "outputs": [],
   "source": [
    "def computePriors(ytrain):\n",
    "#Compute the Prior Probabilityes\n",
    "    priors_cnt = np.zeros(11)\n",
    "    \n",
    "    for i in range(ytrain.shape[0]):\n",
    "        priors_cnt[ytrain[i][0]] +=1\n",
    "        \n",
    "    priors_cnt /= ytrain.shape[0]\n",
    "    #print(sum(priors_cnt))\n",
    "    return priors_cnt\n",
    "\n",
    "if USE_SAVED_MODEL==False:\n",
    "    priors = computePriors(ytrain)\n",
    "    saveModel(priors,'./models/priors.pickle')\n",
    "else:\n",
    "    priors = loadModel('./models/priors.pickle')"
   ]
  },
  {
   "cell_type": "code",
   "execution_count": 15,
   "metadata": {},
   "outputs": [
    {
     "data": {
      "text/plain": [
       "1.0"
      ]
     },
     "execution_count": 15,
     "metadata": {},
     "output_type": "execute_result"
    }
   ],
   "source": [
    "priors.sum()"
   ]
  },
  {
   "cell_type": "code",
   "execution_count": 34,
   "metadata": {},
   "outputs": [],
   "source": [
    "\n",
    "def predictRating(review,table):\n",
    "    review_words = getWords(review)\n",
    "    vocab_size = len(table.keys())\n",
    "    \n",
    "    prob = np.zeros(11)\n",
    "    \n",
    "    for i in range(1,11):\n",
    "        for word in review_words:\n",
    "            try:\n",
    "                if table[word][i]==0:\n",
    "                    prob[i] -= np.inf\n",
    "                else:\n",
    "                    prob[i] += np.log(table[word][i])\n",
    "            \n",
    "            except KeyError:\n",
    "                prob[i] += -np.log(vocab_size)\n",
    "                            \n",
    "        prob[i] += priors[i]\n",
    "\n",
    "    #for i in range(1,11):\n",
    "     #   if np.isnan(prob[i]):\n",
    "      #      prob[i] = -np.inf\n",
    "\n",
    "    #print(prob)\n",
    "    #+1 because the argmax index is 0 based\n",
    "    predicted_rating = np.argmax(prob[1:])+1\n",
    "    \n",
    "    return predicted_rating\n",
    "\n",
    "\n",
    "#print(xtrain[5])\n",
    "#print(ytrain[5])\n",
    "#print(predictRating(xtrain[7],table))\n",
    "#print(xtrain[5])\n",
    "#print(ytrain[7])\n"
   ]
  },
  {
   "cell_type": "code",
   "execution_count": 31,
   "metadata": {},
   "outputs": [],
   "source": [
    "x_test,y_test = readData('./imdb/stemmed_imdb_test_text.txt','./imdb/imdb_test_labels.txt')"
   ]
  },
  {
   "cell_type": "markdown",
   "metadata": {},
   "source": [
    "### Accuracy and Confusion Matrix "
   ]
  },
  {
   "cell_type": "code",
   "execution_count": 35,
   "metadata": {},
   "outputs": [
    {
     "name": "stdout",
     "output_type": "stream",
     "text": [
      "0.68408\n"
     ]
    }
   ],
   "source": [
    "def predictAccuracy(x,y,n,table):\n",
    "    cnt = 0.0\n",
    "    \n",
    "    confusion_matrix  = np.zeros((8,8))\n",
    "    classes = [1,2,3,4,7,8,9,10]\n",
    "    \n",
    "    for i in range(n):\n",
    "        review = x[i]\n",
    "        py = predictRating(review,table)\n",
    "        ay = y[i][0]\n",
    "        if(py==y[i][0]):\n",
    "            cnt +=1\n",
    "        \n",
    "        confusion_matrix[classes.index(py)][classes.index(ay)] +=1\n",
    "        \n",
    "    return cnt/n,confusion_matrix\n",
    "        \n",
    "\n",
    "#accu_train,cf_train_mat = predictAccuracy(x_test,ytest,len(y_test),table)\n",
    "print(accu_train)\n",
    "\n",
    "def predict(x,table):\n",
    "    predictions = []\n",
    "    n = len(xtrain)\n",
    "    \n",
    "    for i in range(n):\n",
    "        prediction = predictRating(x[i],table)\n",
    "        predictions.append(prediction)\n",
    "        \n",
    "    return predictions\n",
    "        \n",
    "        "
   ]
  },
  {
   "cell_type": "code",
   "execution_count": 37,
   "metadata": {},
   "outputs": [],
   "source": [
    "accu_train,cf_train_mat = predictAccuracy(x_test,y_test,len(y_test),table)"
   ]
  },
  {
   "cell_type": "code",
   "execution_count": 38,
   "metadata": {},
   "outputs": [
    {
     "name": "stdout",
     "output_type": "stream",
     "text": [
      "0.38232\n"
     ]
    }
   ],
   "source": [
    "print(accu_train)"
   ]
  },
  {
   "cell_type": "code",
   "execution_count": 25,
   "metadata": {},
   "outputs": [],
   "source": [
    "predictions = predict(x_test,table)\n",
    "predictions = np.asarray(predictions)"
   ]
  },
  {
   "cell_type": "code",
   "execution_count": 26,
   "metadata": {},
   "outputs": [
    {
     "data": {
      "text/plain": [
       "25000"
      ]
     },
     "execution_count": 26,
     "metadata": {},
     "output_type": "execute_result"
    }
   ],
   "source": [
    "len(predictions)"
   ]
  },
  {
   "cell_type": "code",
   "execution_count": 27,
   "metadata": {},
   "outputs": [],
   "source": [
    "\n",
    "predictions = predictions.reshape((predictions.shape[0],))\n",
    "y_test = np.asarray(y_test)\n",
    "y_test = y_test.reshape((y_test.shape[0]))\n"
   ]
  },
  {
   "cell_type": "code",
   "execution_count": 107,
   "metadata": {},
   "outputs": [],
   "source": [
    "#predictions.shape\n",
    "#y_test.shape"
   ]
  },
  {
   "cell_type": "code",
   "execution_count": 28,
   "metadata": {},
   "outputs": [
    {
     "name": "stdout",
     "output_type": "stream",
     "text": [
      "Confusion matrix:\n",
      "Predicted      1    2    3     4     7     8    9    10  __all__\n",
      "Actual                                                          \n",
      "1           4291   63  155   257    38    67   13   138     5022\n",
      "2           1603   45  171   279    55    54    5    90     2302\n",
      "3           1370   46  219   500   130   126   14   136     2541\n",
      "4           1039   44  205   664   214   249   23   197     2635\n",
      "7            402    8   74   271   385   554   55   558     2307\n",
      "8            430    8   60   172   305   717  108  1050     2850\n",
      "9            343    4   22    91   144   486   94  1160     2344\n",
      "10           807   10   42   100   170   568  138  3164     4999\n",
      "__all__    10285  228  948  2334  1441  2821  450  6493    25000\n"
     ]
    },
    {
     "data": {
      "image/png": "[encoded data removed]",
      "text/plain": [
       "<matplotlib.figure.Figure at 0x12aa7f90>"
      ]
     },
     "metadata": {},
     "output_type": "display_data"
    }
   ],
   "source": [
    "def plotConfusionMatrix(prediction,ytest):\n",
    "    confusion_matrix = ConfusionMatrix(ytest,prediction)\n",
    "    print(\"Confusion matrix:\\n%s\" % confusion_matrix)\n",
    "    confusion_matrix.plot(normalized=True)\n",
    "    plt.show()\n",
    "    return confusion_matrix\n",
    "    \n",
    "cf = plotConfusionMatrix(predictions,y_test)"
   ]
  },
  {
   "cell_type": "code",
   "execution_count": 29,
   "metadata": {},
   "outputs": [
    {
     "data": {
      "text/html": [
       "<div>\n",
       "<style scoped>\n",
       "    .dataframe tbody tr th:only-of-type {\n",
       "        vertical-align: middle;\n",
       "    }\n",
       "\n",
       "    .dataframe tbody tr th {\n",
       "        vertical-align: top;\n",
       "    }\n",
       "\n",
       "    .dataframe thead th {\n",
       "        text-align: right;\n",
       "    }\n",
       "</style>\n",
       "<table border=\"1\" class=\"dataframe\">\n",
       "  <thead>\n",
       "    <tr style=\"text-align: right;\">\n",
       "      <th></th>\n",
       "      <th>precision</th>\n",
       "      <th>recall</th>\n",
       "      <th>F1_score</th>\n",
       "      <th>support</th>\n",
       "    </tr>\n",
       "    <tr>\n",
       "      <th>Classes</th>\n",
       "      <th></th>\n",
       "      <th></th>\n",
       "      <th></th>\n",
       "      <th></th>\n",
       "    </tr>\n",
       "  </thead>\n",
       "  <tbody>\n",
       "    <tr>\n",
       "      <th>1</th>\n",
       "      <td>0.41721</td>\n",
       "      <td>0.85444</td>\n",
       "      <td>0.560659</td>\n",
       "      <td>5022</td>\n",
       "    </tr>\n",
       "    <tr>\n",
       "      <th>2</th>\n",
       "      <td>0.197368</td>\n",
       "      <td>0.0195482</td>\n",
       "      <td>0.0355731</td>\n",
       "      <td>2302</td>\n",
       "    </tr>\n",
       "    <tr>\n",
       "      <th>3</th>\n",
       "      <td>0.231013</td>\n",
       "      <td>0.0861865</td>\n",
       "      <td>0.125537</td>\n",
       "      <td>2541</td>\n",
       "    </tr>\n",
       "    <tr>\n",
       "      <th>4</th>\n",
       "      <td>0.28449</td>\n",
       "      <td>0.251992</td>\n",
       "      <td>0.267257</td>\n",
       "      <td>2635</td>\n",
       "    </tr>\n",
       "    <tr>\n",
       "      <th>7</th>\n",
       "      <td>0.267176</td>\n",
       "      <td>0.166883</td>\n",
       "      <td>0.205443</td>\n",
       "      <td>2307</td>\n",
       "    </tr>\n",
       "    <tr>\n",
       "      <th>8</th>\n",
       "      <td>0.254165</td>\n",
       "      <td>0.251579</td>\n",
       "      <td>0.252865</td>\n",
       "      <td>2850</td>\n",
       "    </tr>\n",
       "    <tr>\n",
       "      <th>9</th>\n",
       "      <td>0.208889</td>\n",
       "      <td>0.0401024</td>\n",
       "      <td>0.067287</td>\n",
       "      <td>2344</td>\n",
       "    </tr>\n",
       "    <tr>\n",
       "      <th>10</th>\n",
       "      <td>0.487294</td>\n",
       "      <td>0.632927</td>\n",
       "      <td>0.550644</td>\n",
       "      <td>4999</td>\n",
       "    </tr>\n",
       "    <tr>\n",
       "      <th>__avg / total__</th>\n",
       "      <td>0.326103</td>\n",
       "      <td>0.38316</td>\n",
       "      <td>0.32103</td>\n",
       "      <td>25000</td>\n",
       "    </tr>\n",
       "  </tbody>\n",
       "</table>\n",
       "</div>"
      ],
      "text/plain": [
       "                precision     recall   F1_score support\n",
       "Classes                                                \n",
       "1                 0.41721    0.85444   0.560659    5022\n",
       "2                0.197368  0.0195482  0.0355731    2302\n",
       "3                0.231013  0.0861865   0.125537    2541\n",
       "4                 0.28449   0.251992   0.267257    2635\n",
       "7                0.267176   0.166883   0.205443    2307\n",
       "8                0.254165   0.251579   0.252865    2850\n",
       "9                0.208889  0.0401024   0.067287    2344\n",
       "10               0.487294   0.632927   0.550644    4999\n",
       "__avg / total__  0.326103    0.38316    0.32103   25000"
      ]
     },
     "execution_count": 29,
     "metadata": {},
     "output_type": "execute_result"
    }
   ],
   "source": [
    "cf.classification_report"
   ]
  },
  {
   "cell_type": "code",
   "execution_count": null,
   "metadata": {},
   "outputs": [],
   "source": []
  },
  {
   "cell_type": "markdown",
   "metadata": {},
   "source": [
    "### Confusion Matrix over Test Set \n",
    "\n",
    "Accuracy is equal to Sum of Diagonal Elements/ Total of No of Reviews = 38.74%"
   ]
  },
  {
   "cell_type": "code",
   "execution_count": 114,
   "metadata": {},
   "outputs": [
    {
     "name": "stdout",
     "output_type": "stream",
     "text": [
      "4291 1603 1370 1039 402 430 343 807 \n",
      "\n",
      "63 45 46 44 8 8 4 10 \n",
      "\n",
      "155 171 219 205 74 60 22 42 \n",
      "\n",
      "257 279 500 664 271 172 91 100 \n",
      "\n",
      "38 55 130 214 385 305 144 170 \n",
      "\n",
      "67 54 126 249 554 717 486 568 \n",
      "\n",
      "13 5 14 23 55 108 94 138 \n",
      "\n",
      "138 90 136 197 558 1050 1160 3164 \n",
      "\n"
     ]
    }
   ],
   "source": [
    "#Print Confusion Matrix for Test Set.\n",
    "\n",
    "#print(cf_test_mat)\n",
    "\n",
    "for i in cf_test_mat:\n",
    "    for j in i:\n",
    "        print(int(j),end=' ')\n",
    "    print('\\n')\n",
    "\n"
   ]
  },
  {
   "cell_type": "markdown",
   "metadata": {},
   "source": [
    "###  Random Guess and Majority Prediction"
   ]
  },
  {
   "cell_type": "code",
   "execution_count": 20,
   "metadata": {},
   "outputs": [
    {
     "name": "stdout",
     "output_type": "stream",
     "text": [
      "0.12584\n"
     ]
    }
   ],
   "source": [
    "def randomGuess(y,n):\n",
    "    cnt = 0.0\n",
    "    \n",
    "    labels = [1,2,3,4,7,8,9,10]\n",
    "    \n",
    "    for i in range(n):\n",
    "        guess = np.random.randint(0,8)\n",
    "        if(labels[guess]==y[i][0]):\n",
    "            cnt +=1\n",
    "        \n",
    "    return cnt/n\n",
    "\n",
    "rand_acc = randomGuess(y_test,len(y_test))\n",
    "print(rand_acc)\n",
    "    "
   ]
  },
  {
   "cell_type": "markdown",
   "metadata": {},
   "source": [
    "### Random Guess Accuaracy comes out 12.33% ( which is almost same as 1/8 ie picking one class out of 8 classes)"
   ]
  },
  {
   "cell_type": "code",
   "execution_count": 21,
   "metadata": {},
   "outputs": [
    {
     "name": "stdout",
     "output_type": "stream",
     "text": [
      "0.20088\n"
     ]
    }
   ],
   "source": [
    "def majorityGuess(ytest,ytrain,n):\n",
    "    cnt = 0.0\n",
    "    \n",
    "    label_freq = np.zeros(11)\n",
    "    n = len(ytrain)\n",
    "    \n",
    "    for i in range(n):\n",
    "        yactual = ytrain[i][0]\n",
    "        label_freq[yactual] +=1\n",
    "    \n",
    "    #print(label_freq)\n",
    "    majority_rating = np.argmax(label_freq)\n",
    "    \n",
    "    n = len(ytest)\n",
    "    \n",
    "    for i in range(n):\n",
    "        yactual = ytest[i][0]\n",
    "        if(yactual==majority_rating):\n",
    "            cnt +=1 \n",
    "    \n",
    "    return cnt/n\n",
    "    \n",
    "    \n",
    "rand_acc = majorityGuess(y_test,ytrain,len(y_test))\n",
    "print(rand_acc)"
   ]
  },
  {
   "cell_type": "markdown",
   "metadata": {},
   "source": [
    "### Majority Guess Accuracy is 20.08 %"
   ]
  },
  {
   "cell_type": "code",
   "execution_count": null,
   "metadata": {},
   "outputs": [],
   "source": []
  },
  {
   "cell_type": "markdown",
   "metadata": {},
   "source": [
    "### Naived Bayes on Stemmed Data"
   ]
  },
  {
   "cell_type": "code",
   "execution_count": 126,
   "metadata": {},
   "outputs": [
    {
     "name": "stdout",
     "output_type": "stream",
     "text": [
      "50057\n"
     ]
    }
   ],
   "source": [
    "x_stem,y_stem = readData('./imdb/stemmed_imdb_train_text.txt','./imdb/imdb_train_labels.txt')\n",
    "x_stem_test,y_stem_test = readData('./imdb/stemmed_imdb_test_text.txt','./imdb/imdb_test_labels.txt')\n",
    "#print(x_stem[1])\n",
    "\n",
    "VocabStem = getDictionary(x_stem)\n",
    "VL = len(VocabStem)\n",
    "print(VL)\n",
    "saveModel(VocabStem,'vocab_2.pickle')"
   ]
  },
  {
   "cell_type": "code",
   "execution_count": 23,
   "metadata": {},
   "outputs": [],
   "source": [
    "VocabStem2 = {}\n"
   ]
  },
  {
   "cell_type": "code",
   "execution_count": 125,
   "metadata": {},
   "outputs": [],
   "source": [
    "tableStem= getTable(VocabStem,x_stem,y_stem,VL)\n"
   ]
  },
  {
   "cell_type": "code",
   "execution_count": 127,
   "metadata": {},
   "outputs": [],
   "source": [
    "saveModel(tableStem,'nbtable_2.pickle')"
   ]
  },
  {
   "cell_type": "code",
   "execution_count": 135,
   "metadata": {},
   "outputs": [],
   "source": [
    "accu_stem_train,cf_stem_train = predictAccuracy(x_stem,y_stem,len(y_stem_test),tableStem)"
   ]
  },
  {
   "cell_type": "code",
   "execution_count": 136,
   "metadata": {},
   "outputs": [
    {
     "name": "stdout",
     "output_type": "stream",
     "text": [
      "0.71564\n"
     ]
    }
   ],
   "source": [
    "print(accu_stem_train)"
   ]
  },
  {
   "cell_type": "code",
   "execution_count": 27,
   "metadata": {},
   "outputs": [
    {
     "name": "stdout",
     "output_type": "stream",
     "text": [
      "[[4507.  645.  512.  384.  150.  154.  111.  258.]\n",
      " [  71. 1297.   55.   68.   22.   28.   14.   18.]\n",
      " [ 127.   77. 1487.  105.   55.   51.   23.   26.]\n",
      " [ 159.   91.  138. 1826.   71.   63.   26.   52.]\n",
      " [  50.   47.   83.  107. 1654.  183.  107.  183.]\n",
      " [  69.   46.   54.   75.  189. 1960.  190.  291.]\n",
      " [  39.   24.   30.   44.   99.   97. 1293.  224.]\n",
      " [  78.   57.   61.   87.  256.  473.  499. 3680.]]\n"
     ]
    }
   ],
   "source": [
    "print(cf_stem_train)"
   ]
  },
  {
   "cell_type": "code",
   "execution_count": 133,
   "metadata": {},
   "outputs": [],
   "source": [
    "accu_stem_test,cf_stem_test = predictAccuracy(x_stem_test,y_stem_test,len(y_stem_test),tableStem)"
   ]
  },
  {
   "cell_type": "code",
   "execution_count": 48,
   "metadata": {},
   "outputs": [
    {
     "name": "stdout",
     "output_type": "stream",
     "text": [
      "[[2617. 1167. 1175. 1294.  206.  244.  198.  398.]\n",
      " [ 396.  174.  172.  231.   48.   44.   32.   84.]\n",
      " [ 542.  236.  274.  282.   73.   95.   75.  128.]\n",
      " [ 793.  348.  409.  474.  174.  208.  155.  278.]\n",
      " [ 262.  126.  143.  158.  304.  346.  237.  587.]\n",
      " [ 200.  105.  110.  108.  526.  604.  481.  999.]\n",
      " [ 104.   40.   55.   43.  290.  329.  238.  566.]\n",
      " [ 186.   88.   82.  106.  875. 1139.  847. 1692.]]\n"
     ]
    }
   ],
   "source": [
    "print(cf_stem_test)"
   ]
  },
  {
   "cell_type": "code",
   "execution_count": null,
   "metadata": {},
   "outputs": [],
   "source": []
  }
 ],
 "metadata": {
  "kernelspec": {
   "display_name": "Python 3",
   "language": "python",
   "name": "python3"
  },
  "language_info": {
   "codemirror_mode": {
    "name": "ipython",
    "version": 3
   },
   "file_extension": ".py",
   "mimetype": "text/x-python",
   "name": "python",
   "nbconvert_exporter": "python",
   "pygments_lexer": "ipython3",
   "version": "3.6.1"
  }
 },
 "nbformat": 4,
 "nbformat_minor": 2
}
