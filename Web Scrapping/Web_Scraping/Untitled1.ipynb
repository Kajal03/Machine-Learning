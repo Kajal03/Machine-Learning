{
 "cells": [
  {
   "cell_type": "markdown",
   "metadata": {},
   "source": [
    "### Data Acquistion - API's\n",
    "\n",
    "- Application Programming Interface\n",
    "- Connects Application & Database\n",
    "- Specify Data with URL\n",
    "- Retrieve Data & Parse It\n",
    "- API may return data in JSON, XML data format's\n",
    "\n",
    "### JSON\n",
    "- JavaScript Object Notation\n",
    "- Dictionary Like Data-structure : key value pairs\n",
    "- Keys are strings, values can be anything\n",
    "- Easy to read and write\n",
    "\n",
    "### XML\n",
    "- eXtensible Markup Language\n",
    "- Structure similar to XML\n",
    "- Custom Tags\n",
    "- No Style"
   ]
  },
  {
   "cell_type": "code",
   "execution_count": 4,
   "metadata": {},
   "outputs": [],
   "source": [
    "from urllib.request import urlopen"
   ]
  },
  {
   "cell_type": "code",
   "execution_count": 5,
   "metadata": {},
   "outputs": [],
   "source": [
    "api_url = \"https://samples.openweathermap.org/data/2.5/weather?id=2172797&appid=b6907d289e10d714a6e88b30761fae22\""
   ]
  },
  {
   "cell_type": "code",
   "execution_count": 11,
   "metadata": {},
   "outputs": [
    {
     "name": "stdout",
     "output_type": "stream",
     "text": [
      "{'coord': {'lon': 145.77, 'lat': -16.92}, 'weather': [{'id': 802, 'main': 'Clouds', 'description': 'scattered clouds', 'icon': '03n'}], 'base': 'stations', 'main': {'temp': 300.15, 'pressure': 1007, 'humidity': 74, 'temp_min': 300.15, 'temp_max': 300.15}, 'visibility': 10000, 'wind': {'speed': 3.6, 'deg': 160}, 'clouds': {'all': 40}, 'dt': 1485790200, 'sys': {'type': 1, 'id': 8166, 'message': 0.2064, 'country': 'AU', 'sunrise': 1485720272, 'sunset': 1485766550}, 'id': 2172797, 'name': 'Cairns', 'cod': 200}\n",
      "{\"coord\": {\"lon\": 145.77, \"lat\": -16.92}, \"weather\": [{\"id\": 802, \"main\": \"Clouds\", \"description\": \"scattered clouds\", \"icon\": \"03n\"}], \"base\": \"stations\", \"main\": {\"temp\": 300.15, \"pressure\": 1007, \"humidity\": 74, \"temp_min\": 300.15, \"temp_max\": 300.15}, \"visibility\": 10000, \"wind\": {\"speed\": 3.6, \"deg\": 160}, \"clouds\": {\"all\": 40}, \"dt\": 1485790200, \"sys\": {\"type\": 1, \"id\": 8166, \"message\": 0.2064, \"country\": \"AU\", \"sunrise\": 1485720272, \"sunset\": 1485766550}, \"id\": 2172797, \"name\": \"Cairns\", \"cod\": 200}\n"
     ]
    }
   ],
   "source": [
    "url_result = urlopen(api_url)\n",
    "bytes_data = url_result.read()\n",
    "\n",
    "import json\n",
    "json_data = json.loads(bytes_data)\n",
    "json_string = json.dumps(json_data)\n",
    "print(json_data)\n",
    "print(json_string)"
   ]
  },
  {
   "cell_type": "code",
   "execution_count": 13,
   "metadata": {},
   "outputs": [
    {
     "data": {
      "text/plain": [
       "{'lon': 145.77, 'lat': -16.92}"
      ]
     },
     "execution_count": 13,
     "metadata": {},
     "output_type": "execute_result"
    }
   ],
   "source": [
    "json_data['coord']"
   ]
  },
  {
   "cell_type": "code",
   "execution_count": null,
   "metadata": {},
   "outputs": [],
   "source": []
  }
 ],
 "metadata": {
  "kernelspec": {
   "display_name": "Python 3",
   "language": "python",
   "name": "python3"
  },
  "language_info": {
   "codemirror_mode": {
    "name": "ipython",
    "version": 3
   },
   "file_extension": ".py",
   "mimetype": "text/x-python",
   "name": "python",
   "nbconvert_exporter": "python",
   "pygments_lexer": "ipython3",
   "version": "3.6.1"
  }
 },
 "nbformat": 4,
 "nbformat_minor": 2
}
