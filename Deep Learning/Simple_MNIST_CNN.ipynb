{
 "cells": [
  {
   "cell_type": "code",
   "execution_count": 1,
   "metadata": {
    "colab": {
     "base_uri": "https://localhost:8080/",
     "height": 34
    },
    "colab_type": "code",
    "id": "5UQETGDk07a3",
    "outputId": "c6d9dcc8-8f1c-4418-c48d-d85d1d2d38df"
   },
   "outputs": [
    {
     "name": "stderr",
     "output_type": "stream",
     "text": [
      "Using TensorFlow backend.\n"
     ]
    }
   ],
   "source": [
    "from keras.layers import *\n",
    "from keras.models import Sequential"
   ]
  },
  {
   "cell_type": "code",
   "execution_count": 2,
   "metadata": {
    "colab": {
     "base_uri": "https://localhost:8080/",
     "height": 408
    },
    "colab_type": "code",
    "id": "WST-1Hu11PYs",
    "outputId": "614539b9-0f1a-4692-c05a-93e994cbff90"
   },
   "outputs": [
    {
     "name": "stdout",
     "output_type": "stream",
     "text": [
      "Model: \"sequential_1\"\n",
      "_________________________________________________________________\n",
      "Layer (type)                 Output Shape              Param #   \n",
      "=================================================================\n",
      "conv2d_1 (Conv2D)            (None, 26, 26, 32)        320       \n",
      "_________________________________________________________________\n",
      "max_pooling2d_1 (MaxPooling2 (None, 13, 13, 32)        0         \n",
      "_________________________________________________________________\n",
      "conv2d_2 (Conv2D)            (None, 11, 11, 64)        18496     \n",
      "_________________________________________________________________\n",
      "max_pooling2d_2 (MaxPooling2 (None, 5, 5, 64)          0         \n",
      "_________________________________________________________________\n",
      "conv2d_3 (Conv2D)            (None, 3, 3, 64)          36928     \n",
      "_________________________________________________________________\n",
      "flatten_1 (Flatten)          (None, 576)               0         \n",
      "_________________________________________________________________\n",
      "dense_1 (Dense)              (None, 64)                36928     \n",
      "_________________________________________________________________\n",
      "dense_2 (Dense)              (None, 10)                650       \n",
      "=================================================================\n",
      "Total params: 93,322\n",
      "Trainable params: 93,322\n",
      "Non-trainable params: 0\n",
      "_________________________________________________________________\n"
     ]
    }
   ],
   "source": [
    "# Build a Model \n",
    "\n",
    "model = Sequential()\n",
    "model.add(Conv2D(32,(3,3),activation='relu',input_shape=(28,28,1)))\n",
    "model.add(MaxPool2D((2,2)))\n",
    "model.add(Conv2D(64,(3,3),activation='relu',input_shape=(28,28,1)))\n",
    "model.add(MaxPool2D((2,2)))\n",
    "model.add(Conv2D(64,(3,3),activation='relu',input_shape=(28,28,1)))\n",
    "model.add(Flatten())\n",
    "model.add(Dense(64,activation='relu'))\n",
    "model.add(Dense(10,activation='softmax'))\n",
    "model.summary()"
   ]
  },
  {
   "cell_type": "code",
   "execution_count": 3,
   "metadata": {
    "colab": {},
    "colab_type": "code",
    "id": "8mr8Swri1Tvw"
   },
   "outputs": [
    {
     "name": "stdout",
     "output_type": "stream",
     "text": [
      "Downloading data from https://s3.amazonaws.com/img-datasets/mnist.npz\n",
      "11493376/11490434 [==============================] - 6s 1us/step\n"
     ]
    }
   ],
   "source": [
    "#Dataset\n",
    "from keras.datasets import mnist\n",
    "from keras.utils import to_categorical\n",
    "(XTrain,YTrain),(XTest,YTest) = mnist.load_data()"
   ]
  },
  {
   "cell_type": "code",
   "execution_count": 4,
   "metadata": {
    "colab": {
     "base_uri": "https://localhost:8080/",
     "height": 51
    },
    "colab_type": "code",
    "id": "imDDq6a81bLp",
    "outputId": "14149e67-4c53-40cc-b661-71cab4244af9"
   },
   "outputs": [
    {
     "name": "stdout",
     "output_type": "stream",
     "text": [
      "(60000, 28, 28, 1) (60000, 10)\n",
      "(10000, 28, 28, 1) (10000, 10)\n"
     ]
    }
   ],
   "source": [
    "def preprocess_data(X,Y):\n",
    "    X = X.reshape((-1,28,28,1))\n",
    "    X = X/255.0\n",
    "    Y = to_categorical(Y)\n",
    "    return X,Y\n",
    "\n",
    "XTrain,YTrain = preprocess_data(XTrain,YTrain)\n",
    "print(XTrain.shape,YTrain.shape)\n",
    "\n",
    "XTest,YTest = preprocess_data(XTest,YTest)\n",
    "print(XTest.shape,YTest.shape)"
   ]
  },
  {
   "cell_type": "code",
   "execution_count": 5,
   "metadata": {
    "colab": {
     "base_uri": "https://localhost:8080/",
     "height": 714
    },
    "colab_type": "code",
    "id": "kFn8D-3M1eAb",
    "outputId": "1fd1ede8-25c1-41aa-d51e-5531e3f631f7"
   },
   "outputs": [
    {
     "name": "stdout",
     "output_type": "stream",
     "text": [
      "Train on 54000 samples, validate on 6000 samples\n",
      "Epoch 1/20\n",
      "54000/54000 [==============================] - 36s 675us/step - loss: 0.2623 - accuracy: 0.9212 - val_loss: 0.0908 - val_accuracy: 0.9707\n",
      "Epoch 2/20\n",
      "54000/54000 [==============================] - 41s 763us/step - loss: 0.0619 - accuracy: 0.9812 - val_loss: 0.0437 - val_accuracy: 0.9863\n",
      "Epoch 3/20\n",
      "54000/54000 [==============================] - 33s 613us/step - loss: 0.0425 - accuracy: 0.9861 - val_loss: 0.0509 - val_accuracy: 0.9838\n",
      "Epoch 4/20\n",
      "54000/54000 [==============================] - 32s 591us/step - loss: 0.0325 - accuracy: 0.9900 - val_loss: 0.0361 - val_accuracy: 0.9893\n",
      "Epoch 5/20\n",
      "54000/54000 [==============================] - 33s 618us/step - loss: 0.0276 - accuracy: 0.9909 - val_loss: 0.0413 - val_accuracy: 0.9885\n",
      "Epoch 6/20\n",
      "54000/54000 [==============================] - 33s 611us/step - loss: 0.0219 - accuracy: 0.9926 - val_loss: 0.0339 - val_accuracy: 0.9913\n",
      "Epoch 7/20\n",
      "54000/54000 [==============================] - 33s 617us/step - loss: 0.0190 - accuracy: 0.9940 - val_loss: 0.0378 - val_accuracy: 0.9892\n",
      "Epoch 8/20\n",
      "54000/54000 [==============================] - 33s 606us/step - loss: 0.0144 - accuracy: 0.9949 - val_loss: 0.0390 - val_accuracy: 0.9895\n",
      "Epoch 9/20\n",
      "54000/54000 [==============================] - 32s 600us/step - loss: 0.0143 - accuracy: 0.9954 - val_loss: 0.0367 - val_accuracy: 0.9903\n",
      "Epoch 10/20\n",
      "54000/54000 [==============================] - 34s 629us/step - loss: 0.0134 - accuracy: 0.9957 - val_loss: 0.0366 - val_accuracy: 0.9917\n",
      "Epoch 11/20\n",
      "54000/54000 [==============================] - 32s 595us/step - loss: 0.0107 - accuracy: 0.9964 - val_loss: 0.0441 - val_accuracy: 0.9895\n",
      "Epoch 12/20\n",
      "54000/54000 [==============================] - 32s 599us/step - loss: 0.0092 - accuracy: 0.9969 - val_loss: 0.0529 - val_accuracy: 0.9873\n",
      "Epoch 13/20\n",
      "54000/54000 [==============================] - 32s 592us/step - loss: 0.0084 - accuracy: 0.9972 - val_loss: 0.0350 - val_accuracy: 0.9917\n",
      "Epoch 14/20\n",
      "54000/54000 [==============================] - 33s 603us/step - loss: 0.0075 - accuracy: 0.9975 - val_loss: 0.0355 - val_accuracy: 0.9930\n",
      "Epoch 15/20\n",
      "54000/54000 [==============================] - 31s 567us/step - loss: 0.0062 - accuracy: 0.9978 - val_loss: 0.0395 - val_accuracy: 0.9910\n",
      "Epoch 16/20\n",
      "54000/54000 [==============================] - 33s 614us/step - loss: 0.0083 - accuracy: 0.9971 - val_loss: 0.0393 - val_accuracy: 0.9905\n",
      "Epoch 17/20\n",
      "54000/54000 [==============================] - 33s 602us/step - loss: 0.0054 - accuracy: 0.9981 - val_loss: 0.0396 - val_accuracy: 0.9915\n",
      "Epoch 18/20\n",
      "54000/54000 [==============================] - 33s 603us/step - loss: 0.0036 - accuracy: 0.9988 - val_loss: 0.0524 - val_accuracy: 0.9915\n",
      "Epoch 19/20\n",
      "54000/54000 [==============================] - 31s 574us/step - loss: 0.0082 - accuracy: 0.9972 - val_loss: 0.0424 - val_accuracy: 0.9913\n",
      "Epoch 20/20\n",
      "54000/54000 [==============================] - 32s 594us/step - loss: 0.0033 - accuracy: 0.9989 - val_loss: 0.0511 - val_accuracy: 0.9908\n"
     ]
    }
   ],
   "source": [
    "# Model Compilation\n",
    "model.compile(optimizer='adam',loss='categorical_crossentropy',metrics=['accuracy'])\n",
    "hist = model.fit(XTrain,YTrain,epochs=20,validation_split=0.1,batch_size=128)"
   ]
  },
  {
   "cell_type": "code",
   "execution_count": 6,
   "metadata": {
    "colab": {
     "base_uri": "https://localhost:8080/",
     "height": 51
    },
    "colab_type": "code",
    "id": "QqoMHU4-1sib",
    "outputId": "0b8c1231-e582-4214-f408-55d317fdbf2a"
   },
   "outputs": [
    {
     "name": "stdout",
     "output_type": "stream",
     "text": [
      "10000/10000 [==============================] - 1s 117us/step\n"
     ]
    },
    {
     "data": {
      "text/plain": [
       "[0.042649538362134774, 0.9902999997138977]"
      ]
     },
     "execution_count": 6,
     "metadata": {},
     "output_type": "execute_result"
    }
   ],
   "source": [
    "model.evaluate(XTest,YTest)"
   ]
  },
  {
   "cell_type": "code",
   "execution_count": 0,
   "metadata": {
    "colab": {
     "base_uri": "https://localhost:8080/",
     "height": 340
    },
    "colab_type": "code",
    "id": "3NS_ZNnQ2Q3u",
    "outputId": "64de07df-f8b0-426f-ad95-0630db481180"
   },
   "outputs": [
    {
     "name": "stdout",
     "output_type": "stream",
     "text": [
      "_________________________________________________________________\n",
      "Layer (type)                 Output Shape              Param #   \n",
      "=================================================================\n",
      "conv2d_10 (Conv2D)           (None, 26, 26, 32)        320       \n",
      "_________________________________________________________________\n",
      "conv2d_11 (Conv2D)           (None, 24, 24, 64)        18496     \n",
      "_________________________________________________________________\n",
      "conv2d_12 (Conv2D)           (None, 22, 22, 64)        36928     \n",
      "_________________________________________________________________\n",
      "flatten_4 (Flatten)          (None, 30976)             0         \n",
      "_________________________________________________________________\n",
      "dense_7 (Dense)              (None, 64)                1982528   \n",
      "_________________________________________________________________\n",
      "dense_8 (Dense)              (None, 10)                650       \n",
      "=================================================================\n",
      "Total params: 2,038,922\n",
      "Trainable params: 2,038,922\n",
      "Non-trainable params: 0\n",
      "_________________________________________________________________\n"
     ]
    }
   ],
   "source": [
    "# Build a Model without Pooling?\n",
    "# Why Pooling is Important -> Reduce Params, Increase Receptive Field of the Network!\n",
    "\n",
    "model = Sequential()\n",
    "model.add(Conv2D(32,(3,3),activation='relu',input_shape=(28,28,1)))\n",
    "#model.add(MaxPool2D((2,2)))\n",
    "model.add(Conv2D(64,(3,3),activation='relu',input_shape=(28,28,1)))\n",
    "#model.add(MaxPool2D((2,2)))\n",
    "model.add(Conv2D(64,(3,3),activation='relu',input_shape=(28,28,1)))\n",
    "model.add(Flatten())\n",
    "model.add(Dense(64,activation='relu'))\n",
    "model.add(Dense(10,activation='softmax'))\n",
    "model.summary()"
   ]
  },
  {
   "cell_type": "code",
   "execution_count": 0,
   "metadata": {
    "colab": {},
    "colab_type": "code",
    "id": "2RqPj-rZ8tfZ"
   },
   "outputs": [],
   "source": []
  }
 ],
 "metadata": {
  "accelerator": "GPU",
  "colab": {
   "name": "Simple_MNIST_CNN",
   "provenance": [],
   "version": "0.3.2"
  },
  "kernelspec": {
   "display_name": "Python 3",
   "language": "python",
   "name": "python3"
  },
  "language_info": {
   "codemirror_mode": {
    "name": "ipython",
    "version": 3
   },
   "file_extension": ".py",
   "mimetype": "text/x-python",
   "name": "python",
   "nbconvert_exporter": "python",
   "pygments_lexer": "ipython3",
   "version": "3.7.4"
  }
 },
 "nbformat": 4,
 "nbformat_minor": 1
}
